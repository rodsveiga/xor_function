{
 "cells": [
  {
   "cell_type": "markdown",
   "metadata": {},
   "source": [
    "# Code Example of a Neural Network for The Function XOR\n",
    "\n",
    "Based on the implementation by [Chih-Ling Hsu](https://chih-ling-hsu.github.io/2017/08/30/NN-XOR)."
   ]
  },
  {
   "cell_type": "code",
   "execution_count": 130,
   "metadata": {},
   "outputs": [],
   "source": [
    "import numpy as np\n",
    "%matplotlib inline\n",
    "from matplotlib.colors import ListedColormap\n",
    "import matplotlib.pyplot as plt\n",
    "\n",
    "# The following code is used for hiding the warnings and make this notebook clearer.\n",
    "#iport warnings\n",
    "#warnings.filterwarnings('ignore')"
   ]
  },
  {
   "cell_type": "code",
   "execution_count": 131,
   "metadata": {},
   "outputs": [],
   "source": [
    "def sig(x):\n",
    "    return 1.0 / (1.0 + np.exp(-x))\n",
    "\n",
    "def sig_derivative(x):\n",
    "    return sig(x)*(1.0 - sig(x))"
   ]
  },
  {
   "cell_type": "code",
   "execution_count": 132,
   "metadata": {},
   "outputs": [],
   "source": [
    "def tanh(x):\n",
    "    return (1.0 - np.exp(-2*x))/(1.0 + np.exp(-2*x))\n",
    "\n",
    "def tanh_derivative(x):\n",
    "    return (1 + x)*(1 - x)"
   ]
  },
  {
   "cell_type": "code",
   "execution_count": 289,
   "metadata": {},
   "outputs": [],
   "source": [
    "class NeuralNetwork:\n",
    "    #########\n",
    "    # parameters\n",
    "    # ----------\n",
    "    # self:      the class object itself\n",
    "    # net_arch:  consists of a list of integers, indicating\n",
    "    #            the number of neurons in each layer, i.e. the network architecture\n",
    "    #########\n",
    "    def __init__(self, \n",
    "                 net_arch,\n",
    "                 act= 'tanh',\n",
    "                 W= None):\n",
    "        \n",
    "        np.random.seed(0)\n",
    "        \n",
    "        if act == 'sig':\n",
    "            self.activity = sig\n",
    "            self.activity_derivative = sig_derivative\n",
    "            \n",
    "        if act == 'tanh':\n",
    "            self.activity = tanh\n",
    "            self.activity_derivative = tanh_derivative\n",
    "            \n",
    "        # Initialized the weights, making sure we also \n",
    "        # initialize the weights for the biases that we will add later\n",
    "        #self.activity = tanh\n",
    "        #self.activity_derivative = tanh_derivative\n",
    "        self.layers = len(net_arch)\n",
    "        self.steps_per_epoch = 1\n",
    "        self.arch = net_arch\n",
    "        \n",
    "        if W is None:\n",
    "            self.weights = []\n",
    "            # Random initialization with range of weight values (-1,1)\n",
    "            for layer in range(self.layers - 1):\n",
    "                w_ = 2*np.random.rand(net_arch[layer] + 1, net_arch[layer+1]) - 1\n",
    "                self.weights.append(w_)\n",
    "        else:\n",
    "            self.weights = W\n",
    "    \n",
    "    def _forward_prop(self, x):\n",
    "        y = x\n",
    "\n",
    "        for i in range(len(self.weights)-1):\n",
    "            activation = np.dot(y[i], self.weights[i])\n",
    "            activity = self.activity(activation)\n",
    "\n",
    "            # add the bias for the next layer ### CHECK THOSE BIAS\n",
    "            activity = np.concatenate((np.ones(1), np.array(activity)))\n",
    "            y.append(activity)\n",
    "\n",
    "        # last layer\n",
    "        activation = np.dot(y[-1], self.weights[-1])\n",
    "        activity = self.activity(activation)\n",
    "        y.append(activity)\n",
    "        \n",
    "        return y\n",
    "    \n",
    "    \n",
    "    def forward(self, x):\n",
    "        \n",
    "        ones = np.ones((1, x.shape[0]))\n",
    "        Z = np.concatenate((ones.T, x), axis=1)\n",
    "              \n",
    "        int_ = []\n",
    "        int_.append(x)\n",
    "        \n",
    "        for i in range(len(self.weights)-1):\n",
    "            \n",
    "            activation = np.dot(Z, self.weights[i])\n",
    "            activity = self.activity(activation)\n",
    "            \n",
    "            int_.append(activity)\n",
    "            \n",
    "            Z = activity\n",
    "            \n",
    "        # Last layer\n",
    "        Z = np.concatenate((ones.T, Z), axis=1)\n",
    "        activation = np.dot(Z, self.weights[-1])\n",
    "        activity = self.activity(activation)\n",
    "        int_.append(activity)\n",
    "        \n",
    "        return int_\n",
    "        \n",
    "        \n",
    "            \n",
    "            \n",
    "        \n",
    "        #lin_bias = np.dot(Z, self.weights[int_rep_index])\n",
    "        #act = self.activity(lin_bias)\n",
    "        #int_rep_.append(act)\n",
    "                \n",
    "        #######################\n",
    "        \n",
    "        #y = []\n",
    "        #y.append(x)\n",
    "        \n",
    "        #for i in range(len(self.weights)-1):\n",
    "            \n",
    "        #    activation = np.dot(y[i], self.weights[i][0:len(x[0])]) + self.weights[i][len(x[0])]\n",
    "        #    activity = self.activity(activation)\n",
    "\n",
    "        #    y.append(activity)\n",
    "\n",
    "        # last layer\n",
    "        #activation = np.dot(y[-1], self.weights[-1][0:len(x[0])]) + self.weights[-1][len(x[0])]\n",
    "        #activity = self.activity(activation)\n",
    "        #y.append(activity)\n",
    "        \n",
    "        #return y\n",
    "    \n",
    "    def _back_prop(self, y, target, learning_rate):\n",
    "        \n",
    "        error = target - y[-1]\n",
    "        delta_vec = [error * self.activity_derivative(y[-1])]\n",
    "\n",
    "        # we need to begin from the back, from the next to last layer\n",
    "        for i in range(self.layers-2, 0, -1):\n",
    "            error = delta_vec[-1].dot(self.weights[i][1:].T)\n",
    "            error = error*self.activity_derivative(y[i][1:])\n",
    "            delta_vec.append(error)\n",
    "\n",
    "        # Now we need to set the values from back to front\n",
    "        delta_vec.reverse()\n",
    "        \n",
    "        # Finally, we adjust the weights, using the backpropagation rules\n",
    "        for i in range(len(self.weights)):\n",
    "            layer = y[i].reshape(1, self.arch[i]+1)\n",
    "            delta = delta_vec[i].reshape(1, self.arch[i+1])\n",
    "            self.weights[i] += learning_rate*layer.T.dot(delta)\n",
    "            \n",
    "    \n",
    "    #########\n",
    "    # parameters\n",
    "    # ----------\n",
    "    # self:    the class object itself\n",
    "    # data:    the set of all possible pairs of booleans True or False indicated by the integers 1 or 0\n",
    "    # labels:  the result of the logical operation 'xor' on each of those input pairs\n",
    "    #########\n",
    "    def fit(self, \n",
    "            data,\n",
    "            labels,\n",
    "            learning_rate= 0.1,\n",
    "            epochs= 100,\n",
    "            int_rep= False,\n",
    "            save_weights= False,\n",
    "            int_rep_index= -2):\n",
    "        \n",
    "        # Add bias units to the input layer - \n",
    "        # add a \"1\" to the input data (the always-on bias neuron)\n",
    "        ones = np.ones((1, data.shape[0]))\n",
    "        Z = np.concatenate((ones.T, data), axis=1)\n",
    "        \n",
    "        int_rep_ = []\n",
    "        int_rep_.append(data)\n",
    "        \n",
    "        saved_weights = []\n",
    "        saved_weights.append(self.weights)\n",
    "        \n",
    "        for k in range(epochs):\n",
    "            if (k+1) % 10000 == 0:\n",
    "                print('epochs: {}'.format(k+1))\n",
    "        \n",
    "            sample = np.random.randint(X.shape[0])\n",
    "\n",
    "            # We will now go ahead and set up our feed-forward propagation:\n",
    "            x = [Z[sample]]\n",
    "            y = self._forward_prop(x)\n",
    "\n",
    "            # Now we do our back-propagation of the error to adjust the weights:\n",
    "            target = labels[sample]\n",
    "            self._back_prop(y, target, learning_rate)\n",
    "            \n",
    "            ###################################\n",
    "            \n",
    "            # Internal monitor\n",
    "            if int_rep:\n",
    "                lin_bias = np.dot(Z, self.weights[int_rep_index])\n",
    "                act = self.activity(lin_bias)\n",
    "                int_rep_.append(act)\n",
    "                \n",
    "            if save_weights:\n",
    "                saved_weights.append(self.weights)\n",
    "                      \n",
    "        if int_rep:\n",
    "            if save_weights:\n",
    "                return int_rep_, saved_weights\n",
    "            else:\n",
    "                return int_rep_\n",
    "        \n",
    "    \n",
    "    #########\n",
    "    # the predict function is used to check the prediction result of\n",
    "    # this neural network.\n",
    "    # \n",
    "    # parameters\n",
    "    # ----------\n",
    "    # self:   the class object itself\n",
    "    # x:      single input data\n",
    "    #########\n",
    "    \n",
    "    def predict_single_data(self, x):\n",
    "        val = np.concatenate((np.ones(1).T, np.array(x)))\n",
    "        for i in range(0, len(self.weights)):\n",
    "            val = self.activity(np.dot(val, self.weights[i]))\n",
    "            val = np.concatenate((np.ones(1).T, np.array(val)))\n",
    "        return val[1]\n",
    "    \n",
    "    #########\n",
    "    # the predict function is used to check the prediction result of\n",
    "    # this neural network.\n",
    "    # \n",
    "    # parameters\n",
    "    # ----------\n",
    "    # self:   the class object itself\n",
    "    # X:      the input data array\n",
    "    #########\n",
    "    def predict(self, X):\n",
    "        Y = np.array([]).reshape(0, self.arch[-1])\n",
    "        for x in X:\n",
    "            y = np.array([[self.predict_single_data(x)]])\n",
    "            Y = np.vstack((Y,y))\n",
    "        return Y"
   ]
  },
  {
   "cell_type": "code",
   "execution_count": 247,
   "metadata": {},
   "outputs": [],
   "source": [
    "def plot_decision_regions(X, y, classifier, test_idx=None, resolution=0.02):\n",
    "\n",
    "    # setup marker generator and color map\n",
    "    markers = ('s', 'x', 'o', '^', 'v')\n",
    "    colors = ('red', 'blue', 'lightgreen', 'gray', 'cyan')\n",
    "    cmap = ListedColormap(colors[:len(np.unique(y))])\n",
    "\n",
    "    # plot the decision surface\n",
    "    x1_min, x1_max = X[:, 0].min() - 1, X[:, 0].max() + 1\n",
    "    x2_min, x2_max = X[:, 1].min() - 1, X[:, 1].max() + 1\n",
    "    xx1, xx2 = np.meshgrid(np.arange(x1_min, x1_max, resolution),\n",
    "                           np.arange(x2_min, x2_max, resolution))\n",
    "    Z = classifier.predict(np.array([xx1.ravel(), xx2.ravel()]).T)\n",
    "    Z = Z.reshape(xx1.shape)\n",
    "    plt.contourf(xx1, xx2, Z, alpha=0.4, cmap=cmap)\n",
    "    plt.xlim(xx1.min(), xx1.max())\n",
    "    plt.ylim(xx2.min(), xx2.max())\n",
    "\n",
    "    # plot class samples\n",
    "    for idx, cl in enumerate(np.unique(y)):\n",
    "        plt.scatter(x=X[y == cl, 0], y=X[y == cl, 1],\n",
    "                    alpha=0.8, c=cmap(idx),\n",
    "                    marker=markers[idx], label=cl)\n",
    "\n",
    "    # highlight test samples\n",
    "    if test_idx:\n",
    "        # plot all samples\n",
    "        X_test, y_test = X[test_idx, :], y[test_idx]\n",
    "\n",
    "        plt.scatter(X_test[:, 0],\n",
    "                    X_test[:, 1],\n",
    "                    c='',\n",
    "                    alpha=1.0,\n",
    "                    linewidths=1,\n",
    "                    marker='o',\n",
    "                    s=55, label='test set')"
   ]
  },
  {
   "cell_type": "code",
   "execution_count": 297,
   "metadata": {},
   "outputs": [
    {
     "name": "stdout",
     "output_type": "stream",
     "text": [
      "epochs: 10000\n",
      "Final prediction\n",
      "[-1 -1] -0.9909304725540728\n",
      "[-1  1] 0.9907189399882149\n",
      "[ 1 -1] 0.992529070324007\n",
      "[1 1] -0.9907707782362952\n"
     ]
    }
   ],
   "source": [
    "np.random.seed(0)\n",
    "\n",
    "# Initialize the NeuralNetwork with\n",
    "# 2 input neurons\n",
    "# 2 hidden neurons\n",
    "# 1 output neuron\n",
    "nn = NeuralNetwork([2, 2, 2, 2, 2, 1],\n",
    "                   act= 'tanh')\n",
    "\n",
    "# Set the input data\n",
    "X = np.array([[-1, -1], [-1, 1],\n",
    "                [1, -1], [1, 1]])\n",
    "\n",
    "# Set the labels, the correct results for the xor operation\n",
    "y = np.array([-1, 1, \n",
    "                 1, -1])\n",
    "\n",
    "# Call the fit function and train the network for a chosen number of epochs\n",
    "int_rep, weights = nn.fit(X, \n",
    "                          y,\n",
    "                          epochs= 10000,\n",
    "                          int_rep= True,\n",
    "                          int_rep_index= -2,\n",
    "                          save_weights= True)\n",
    "\n",
    "# Show the prediction results\n",
    "print(\"Final prediction\")\n",
    "for s in X:\n",
    "    print(s, nn.predict_single_data(s))"
   ]
  },
  {
   "cell_type": "code",
   "execution_count": 298,
   "metadata": {},
   "outputs": [],
   "source": [
    "l_minus_minus_x = []\n",
    "l_minus_minus_y = []\n",
    "l_minus_plus_x = []\n",
    "l_minus_plus_y = []\n",
    "l_plus_minus_x = []\n",
    "l_plus_minus_y = []\n",
    "l_plus_plus_x = []\n",
    "l_plus_plus_y = []\n",
    "\n",
    "for j in range(len(int_rep)):\n",
    "    \n",
    "    l_minus_minus_x.append(int_rep[j][0][0])\n",
    "    l_minus_minus_y.append(int_rep[j][0][1])\n",
    "    l_minus_plus_x.append(int_rep[j][1][0])\n",
    "    l_minus_plus_y.append(int_rep[j][1][1])\n",
    "    l_plus_minus_x.append(int_rep[j][2][0])\n",
    "    l_plus_minus_y.append(int_rep[j][2][1])\n",
    "    l_plus_plus_x.append(int_rep[j][3][0])\n",
    "    l_plus_plus_y.append(int_rep[j][3][1])"
   ]
  },
  {
   "cell_type": "code",
   "execution_count": 301,
   "metadata": {},
   "outputs": [],
   "source": [
    "nn_trained = NeuralNetwork([2, 2, 2, 2, 2, 1],\n",
    "                           act= 'tanh',\n",
    "                           W= weights[-1])"
   ]
  },
  {
   "cell_type": "code",
   "execution_count": 304,
   "metadata": {},
   "outputs": [
    {
     "data": {
      "text/plain": [
       "5"
      ]
     },
     "execution_count": 304,
     "metadata": {},
     "output_type": "execute_result"
    }
   ],
   "source": [
    "len(weights[-1])"
   ]
  },
  {
   "cell_type": "code",
   "execution_count": 310,
   "metadata": {},
   "outputs": [
    {
     "data": {
      "text/plain": [
       "array([[0.15098754],\n",
       "       [2.03594245],\n",
       "       [1.35263216]])"
      ]
     },
     "execution_count": 310,
     "metadata": {},
     "output_type": "execute_result"
    }
   ],
   "source": [
    "weights[-1][4]"
   ]
  },
  {
   "cell_type": "code",
   "execution_count": 311,
   "metadata": {},
   "outputs": [
    {
     "data": {
      "text/plain": [
       "array([[-1, -1],\n",
       "       [-1,  1],\n",
       "       [ 1, -1],\n",
       "       [ 1,  1]])"
      ]
     },
     "execution_count": 311,
     "metadata": {},
     "output_type": "execute_result"
    }
   ],
   "source": [
    "X"
   ]
  },
  {
   "cell_type": "code",
   "execution_count": 312,
   "metadata": {},
   "outputs": [
    {
     "ename": "ValueError",
     "evalue": "shapes (4,2) and (3,2) not aligned: 2 (dim 1) != 3 (dim 0)",
     "output_type": "error",
     "traceback": [
      "\u001b[0;31m---------------------------------------------------------------------------\u001b[0m",
      "\u001b[0;31mValueError\u001b[0m                                Traceback (most recent call last)",
      "\u001b[0;32m<ipython-input-312-cc3638a0ba87>\u001b[0m in \u001b[0;36m<module>\u001b[0;34m()\u001b[0m\n\u001b[0;32m----> 1\u001b[0;31m \u001b[0mtrained_test\u001b[0m\u001b[0;34m=\u001b[0m \u001b[0mnn_trained\u001b[0m\u001b[0;34m.\u001b[0m\u001b[0mforward\u001b[0m\u001b[0;34m(\u001b[0m\u001b[0mX\u001b[0m\u001b[0;34m)\u001b[0m\u001b[0;34m\u001b[0m\u001b[0;34m\u001b[0m\u001b[0m\n\u001b[0m",
      "\u001b[0;32m<ipython-input-289-27b016be3926>\u001b[0m in \u001b[0;36mforward\u001b[0;34m(self, x)\u001b[0m\n\u001b[1;32m     68\u001b[0m         \u001b[0;32mfor\u001b[0m \u001b[0mi\u001b[0m \u001b[0;32min\u001b[0m \u001b[0mrange\u001b[0m\u001b[0;34m(\u001b[0m\u001b[0mlen\u001b[0m\u001b[0;34m(\u001b[0m\u001b[0mself\u001b[0m\u001b[0;34m.\u001b[0m\u001b[0mweights\u001b[0m\u001b[0;34m)\u001b[0m\u001b[0;34m-\u001b[0m\u001b[0;36m1\u001b[0m\u001b[0;34m)\u001b[0m\u001b[0;34m:\u001b[0m\u001b[0;34m\u001b[0m\u001b[0;34m\u001b[0m\u001b[0m\n\u001b[1;32m     69\u001b[0m \u001b[0;34m\u001b[0m\u001b[0m\n\u001b[0;32m---> 70\u001b[0;31m             \u001b[0mactivation\u001b[0m \u001b[0;34m=\u001b[0m \u001b[0mnp\u001b[0m\u001b[0;34m.\u001b[0m\u001b[0mdot\u001b[0m\u001b[0;34m(\u001b[0m\u001b[0mZ\u001b[0m\u001b[0;34m,\u001b[0m \u001b[0mself\u001b[0m\u001b[0;34m.\u001b[0m\u001b[0mweights\u001b[0m\u001b[0;34m[\u001b[0m\u001b[0mi\u001b[0m\u001b[0;34m]\u001b[0m\u001b[0;34m)\u001b[0m\u001b[0;34m\u001b[0m\u001b[0;34m\u001b[0m\u001b[0m\n\u001b[0m\u001b[1;32m     71\u001b[0m             \u001b[0mactivity\u001b[0m \u001b[0;34m=\u001b[0m \u001b[0mself\u001b[0m\u001b[0;34m.\u001b[0m\u001b[0mactivity\u001b[0m\u001b[0;34m(\u001b[0m\u001b[0mactivation\u001b[0m\u001b[0;34m)\u001b[0m\u001b[0;34m\u001b[0m\u001b[0;34m\u001b[0m\u001b[0m\n\u001b[1;32m     72\u001b[0m \u001b[0;34m\u001b[0m\u001b[0m\n",
      "\u001b[0;31mValueError\u001b[0m: shapes (4,2) and (3,2) not aligned: 2 (dim 1) != 3 (dim 0)"
     ]
    }
   ],
   "source": [
    "trained_test= nn_trained.forward(X)"
   ]
  },
  {
   "cell_type": "code",
   "execution_count": 296,
   "metadata": {},
   "outputs": [
    {
     "data": {
      "text/plain": [
       "[array([[-1, -1],\n",
       "        [-1,  1],\n",
       "        [ 1, -1],\n",
       "        [ 1,  1]]), array([[ 0.9997718 , -0.9471566 ],\n",
       "        [ 0.88647033,  0.90388384],\n",
       "        [ 0.88342627,  0.90120861],\n",
       "        [-0.94055033,  0.99985762]]), array([[-0.97661485],\n",
       "        [ 0.98291632],\n",
       "        [ 0.98239538],\n",
       "        [-0.97645225]])]"
      ]
     },
     "execution_count": 296,
     "metadata": {},
     "output_type": "execute_result"
    }
   ],
   "source": [
    "trained_test"
   ]
  },
  {
   "cell_type": "code",
   "execution_count": 280,
   "metadata": {},
   "outputs": [
    {
     "data": {
      "image/png": "[encoded data removed]",
      "text/plain": [
       "<Figure size 720x1080 with 4 Axes>"
      ]
     },
     "metadata": {
      "needs_background": "light"
     },
     "output_type": "display_data"
    }
   ],
   "source": [
    "f, (ax1, ax2, ax3, ax4) = plt.subplots(4, \n",
    "                                       sharex=True,\n",
    "                                       sharey=True,\n",
    "                                       figsize=(10,15))\n",
    "ax1.plot(l_minus_minus_x, marker='.', label= '$x_0$ = %d' % l_minus_minus_x[0])\n",
    "ax1.plot(l_minus_minus_y, marker='.', label= '$y_0$ = %d' % l_minus_minus_y[0])\n",
    "ax1.legend(fontsize= 12)\n",
    "ax2.plot(l_minus_plus_x, marker='.', label= '$x_0$ = %d' % l_minus_plus_x[0])\n",
    "ax2.plot(l_minus_plus_y, marker='.', label= '$y_0$ = %d' % l_minus_plus_y[0])\n",
    "ax2.legend(fontsize= 12)\n",
    "ax3.plot(l_plus_minus_x, marker='.', label= '$x_0$ = %d' % l_plus_minus_x[0])\n",
    "ax3.plot(l_plus_minus_y, marker='.', label= '$y_0$ = %d' % l_plus_minus_y[0])\n",
    "ax3.legend(fontsize= 12)\n",
    "ax4.plot(l_plus_plus_x, marker='.', label= '$x_0$ = %d' % l_plus_plus_x[0])\n",
    "ax4.plot(l_plus_plus_y, marker='.', label= '$y_0$ = %d' % l_plus_plus_y[0])\n",
    "ax4.legend(fontsize= 12)\n",
    "ax4.set_xlabel('Epochs', fontsize= 15)\n",
    "\n",
    "# Fine-tune figure; make subplots close to each other and hide x ticks for\n",
    "# all but bottom plot.\n",
    "f.subplots_adjust(hspace=0)\n",
    "plt.setp([a.get_xticklabels() for a in f.axes[:-1]], visible=False)\n",
    "#plt.xlim(-10, 1000)\n",
    "#plt.legend()\n",
    "plt.show()"
   ]
  },
  {
   "cell_type": "code",
   "execution_count": 281,
   "metadata": {},
   "outputs": [
    {
     "data": {
      "image/png": "[encoded data removed]",
      "text/plain": [
       "<Figure size 432x288 with 1 Axes>"
      ]
     },
     "metadata": {
      "needs_background": "light"
     },
     "output_type": "display_data"
    }
   ],
   "source": [
    "xq = np.array(l_minus_minus_x)\n",
    "yq = np.array(l_minus_minus_y)\n",
    "\n",
    "plt.quiver(xq[:-1], yq[:-1], xq[1:]-xq[:-1], yq[1:]-yq[:-1], \n",
    "           scale_units= 'xy', \n",
    "           angles= 'xy', \n",
    "           scale= 1,\n",
    "           width= 0.005,\n",
    "           color= 'b', \n",
    "           headwidth= 5)\n",
    "plt.plot(xq, yq, 'o', markersize= 0.5, color= 'b')\n",
    "\n",
    "###############################\n",
    "\n",
    "xq = np.array(l_minus_plus_x)\n",
    "yq = np.array(l_minus_plus_y)\n",
    "\n",
    "plt.quiver(xq[:-1], yq[:-1], xq[1:]-xq[:-1], yq[1:]-yq[:-1], \n",
    "           scale_units= 'xy', \n",
    "           angles= 'xy', \n",
    "           scale= 1,\n",
    "           width= 0.005,\n",
    "           color= 'r',\n",
    "           headwidth= 5)\n",
    "plt.plot(xq, yq, 'o', markersize= 0.5, color= 'r')\n",
    "\n",
    "###############################\n",
    "\n",
    "xq = np.array(l_plus_minus_x)\n",
    "yq = np.array(l_plus_minus_y)\n",
    "\n",
    "plt.quiver(xq[:-1], yq[:-1], xq[1:]-xq[:-1], yq[1:]-yq[:-1], \n",
    "           scale_units= 'xy', \n",
    "           angles= 'xy', \n",
    "           scale= 1,\n",
    "           width= 0.005,\n",
    "           color= 'g',\n",
    "           headwidth= 5)\n",
    "plt.plot(xq, yq, 'o', markersize= 0.5, color= 'g')\n",
    "\n",
    "###############################\n",
    "\n",
    "xq = np.array(l_plus_plus_x)\n",
    "yq = np.array(l_plus_plus_y)\n",
    "\n",
    "plt.quiver(xq[:-1], yq[:-1], xq[1:]-xq[:-1], yq[1:]-yq[:-1], \n",
    "           scale_units= 'xy', \n",
    "           angles= 'xy', \n",
    "           scale= 1,\n",
    "           width= 0.005,\n",
    "           color= 'm',\n",
    "           headwidth= 5)\n",
    "plt.plot(xq, yq, 'o', markersize= 0.5, color= 'm')\n",
    "\n",
    "plt.grid()\n",
    "plt.show()"
   ]
  },
  {
   "cell_type": "code",
   "execution_count": 282,
   "metadata": {},
   "outputs": [
    {
     "data": {
      "image/png": "[encoded data removed]",
      "text/plain": [
       "<Figure size 432x288 with 1 Axes>"
      ]
     },
     "metadata": {
      "needs_background": "light"
     },
     "output_type": "display_data"
    }
   ],
   "source": [
    "X = np.array([[-1, -1], [-1, 1],\n",
    "                [1, -1], [1, 1]])\n",
    "\n",
    "# Set the labels, the correct results for the xor operation\n",
    "y = np.array([-1, 1, \n",
    "                 1, -1])\n",
    "\n",
    "plot_decision_regions(X, y, nn)\n",
    "plt.xlabel('x')\n",
    "plt.ylabel('y')\n",
    "plt.legend(loc='upper left')\n",
    "plt.tight_layout()\n",
    "plt.show()"
   ]
  },
  {
   "cell_type": "code",
   "execution_count": null,
   "metadata": {},
   "outputs": [],
   "source": []
  }
 ],
 "metadata": {
  "kernelspec": {
   "display_name": "Python 3",
   "language": "python",
   "name": "python3"
  },
  "language_info": {
   "codemirror_mode": {
    "name": "ipython",
    "version": 3
   },
   "file_extension": ".py",
   "mimetype": "text/x-python",
   "name": "python",
   "nbconvert_exporter": "python",
   "pygments_lexer": "ipython3",
   "version": "3.7.3"
  }
 },
 "nbformat": 4,
 "nbformat_minor": 2
}
