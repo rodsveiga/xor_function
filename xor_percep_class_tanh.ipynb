{
 "cells": [
  {
   "cell_type": "markdown",
   "metadata": {},
   "source": [
    "# Code Example of a Neural Network for The Function XOR\n",
    "\n",
    "Based on the implementation by [Chih-Ling Hsu](https://chih-ling-hsu.github.io/2017/08/30/NN-XOR)."
   ]
  },
  {
   "cell_type": "code",
   "execution_count": 26,
   "metadata": {},
   "outputs": [],
   "source": [
    "import numpy as np\n",
    "import matplotlib.pyplot as plt\n",
    "import pickle\n",
    "import time\n",
    "\n",
    "from net import NeuralNetwork\n",
    "from net import Plots\n",
    "from perceptron import Perceptron"
   ]
  },
  {
   "cell_type": "markdown",
   "metadata": {},
   "source": [
    "## Neural Network Training"
   ]
  },
  {
   "cell_type": "markdown",
   "metadata": {},
   "source": [
    "First we define network architecture, activation function, input data with labels. The training is called by the method `fit()`."
   ]
  },
  {
   "cell_type": "code",
   "execution_count": 2,
   "metadata": {},
   "outputs": [
    {
     "name": "stdout",
     "output_type": "stream",
     "text": [
      "epochs: 10000\n",
      "epochs: 20000\n",
      "epochs: 30000\n",
      "epochs: 40000\n",
      "epochs: 50000\n",
      "epochs: 60000\n",
      "epochs: 70000\n",
      "epochs: 80000\n",
      "epochs: 90000\n",
      "epochs: 100000\n",
      "epochs: 110000\n",
      "epochs: 120000\n",
      "epochs: 130000\n",
      "epochs: 140000\n",
      "epochs: 150000\n",
      "epochs: 160000\n",
      "epochs: 170000\n",
      "epochs: 180000\n",
      "epochs: 190000\n",
      "epochs: 200000\n",
      "epochs: 210000\n",
      "epochs: 220000\n",
      "epochs: 230000\n",
      "epochs: 240000\n",
      "epochs: 250000\n",
      "epochs: 260000\n",
      "epochs: 270000\n",
      "epochs: 280000\n",
      "epochs: 290000\n",
      "epochs: 300000\n",
      "epochs: 310000\n",
      "epochs: 320000\n",
      "epochs: 330000\n",
      "epochs: 340000\n",
      "epochs: 350000\n",
      "epochs: 360000\n",
      "epochs: 370000\n",
      "epochs: 380000\n",
      "epochs: 390000\n",
      "epochs: 400000\n",
      "epochs: 410000\n",
      "epochs: 420000\n",
      "epochs: 430000\n",
      "epochs: 440000\n",
      "epochs: 450000\n",
      "epochs: 460000\n",
      "epochs: 470000\n",
      "epochs: 480000\n",
      "epochs: 490000\n",
      "epochs: 500000\n",
      "epochs: 510000\n",
      "epochs: 520000\n",
      "epochs: 530000\n",
      "epochs: 540000\n",
      "epochs: 550000\n",
      "epochs: 560000\n",
      "epochs: 570000\n",
      "epochs: 580000\n",
      "epochs: 590000\n",
      "epochs: 600000\n",
      "epochs: 610000\n",
      "epochs: 620000\n",
      "epochs: 630000\n",
      "epochs: 640000\n",
      "epochs: 650000\n",
      "epochs: 660000\n",
      "epochs: 670000\n",
      "epochs: 680000\n",
      "epochs: 690000\n",
      "epochs: 700000\n",
      "epochs: 710000\n",
      "epochs: 720000\n",
      "epochs: 730000\n",
      "epochs: 740000\n",
      "epochs: 750000\n",
      "epochs: 760000\n",
      "epochs: 770000\n",
      "epochs: 780000\n",
      "epochs: 790000\n",
      "epochs: 800000\n",
      "epochs: 810000\n",
      "epochs: 820000\n",
      "epochs: 830000\n",
      "epochs: 840000\n",
      "epochs: 850000\n",
      "epochs: 860000\n",
      "epochs: 870000\n",
      "epochs: 880000\n",
      "epochs: 890000\n",
      "epochs: 900000\n",
      "epochs: 910000\n",
      "epochs: 920000\n",
      "epochs: 930000\n",
      "epochs: 940000\n",
      "epochs: 950000\n",
      "epochs: 960000\n",
      "epochs: 970000\n",
      "epochs: 980000\n",
      "epochs: 990000\n",
      "epochs: 1000000\n",
      "Final prediction\n",
      "[-1 -1] -0.9991570092929191\n",
      "[-1  1] 0.999100061607903\n",
      "[ 1 -1] 0.999104968913381\n",
      "[1 1] -0.9990673813023377\n"
     ]
    }
   ],
   "source": [
    "net_arch = [2, 2, 2, 2, 2, 2, 2, 2, 1]\n",
    "\n",
    "# Initialize the NeuralNetwork\n",
    "net = NeuralNetwork(net_arch,\n",
    "                    act= 'tanh')\n",
    "\n",
    "# Set the input data\n",
    "X = np.array([[-1, -1], [-1, 1],\n",
    "               [1, -1], [1, 1]])\n",
    "\n",
    "\n",
    "# Set the labels, the correct results for the xor operation\n",
    "y = np.array([-1, 1, \n",
    "              1, -1])\n",
    "\n",
    "# Call the fit function and train the network for a chosen number of epochs\n",
    "net.fit(X, \n",
    "        y,\n",
    "        epochs= 1000000,\n",
    "        int_rep= True,\n",
    "        int_rep_index= -2,\n",
    "        save_weights= True,\n",
    "        learning_rate= 0.1)\n",
    "\n",
    "# Show the prediction results\n",
    "print(\"Final prediction\")\n",
    "for s in X:\n",
    "    print(s, net.predict_single_data(s))"
   ]
  },
  {
   "cell_type": "markdown",
   "metadata": {},
   "source": [
    "Decision boundaries:"
   ]
  },
  {
   "cell_type": "code",
   "execution_count": 3,
   "metadata": {},
   "outputs": [
    {
     "data": {
      "image/png": "[encoded data removed]",
      "text/plain": [
       "<Figure size 432x288 with 1 Axes>"
      ]
     },
     "metadata": {
      "needs_background": "light"
     },
     "output_type": "display_data"
    }
   ],
   "source": [
    "plots = Plots(X, y, net)\n",
    "plots.decision_regions()"
   ]
  },
  {
   "cell_type": "markdown",
   "metadata": {},
   "source": [
    "The internal representations and weights during training can be extract to further analysis."
   ]
  },
  {
   "cell_type": "code",
   "execution_count": 4,
   "metadata": {},
   "outputs": [],
   "source": [
    "int_rep = net.int_rep_dyn()\n",
    "weights = net.weights_dyn()"
   ]
  },
  {
   "cell_type": "markdown",
   "metadata": {},
   "source": [
    "### Linear separability over layers: perceptron\n",
    "\n",
    "Note that the perceptron works with $\\{ 0, 1\\}$ inputs instead of $\\{ -1, + 1 \\}$."
   ]
  },
  {
   "cell_type": "code",
   "execution_count": null,
   "metadata": {},
   "outputs": [
    {
     "name": "stdout",
     "output_type": "stream",
     "text": [
      "Epoch 1\n",
      "time elapsed epoch 26.27 s\n",
      "Epoch 2\n",
      "time elapsed epoch 23.60 s\n",
      "Epoch 3\n"
     ]
    }
   ],
   "source": [
    "layer = []\n",
    "epoch = []\n",
    "linear_sep_ = []\n",
    "\n",
    "y_p = ((y + 1)/2).astype(int)\n",
    "\n",
    "for j in range(1, len(int_rep)):\n",
    "       \n",
    "    t0 = time.time()\n",
    "    \n",
    "    print('Epoch %d' % j)\n",
    "\n",
    "    for k in range(len(int_rep[1]) - 1 ):\n",
    "        \n",
    "        #t0_l = time.time()\n",
    "        \n",
    "        int_p = (int_rep[j][k] + 1.)/2.\n",
    "        \n",
    "        linear_sep = Perceptron(int_rep[j][k], y_p).train()\n",
    "        \n",
    "        linear_sep_.append(linear_sep)\n",
    "        \n",
    "        layer.append(k)\n",
    "        epoch.append(j)\n",
    "        \n",
    "        #t1_l = time.time()\n",
    "        #deltaT = t1_l - t0_l\n",
    "        #print('layer %d time %.2f s' % (k, deltaT ) )\n",
    "        \n",
    "    t1 = time.time()\n",
    "    deltaT = t1 - t0\n",
    "    \n",
    "    print('time elapsed epoch %.2f s' % deltaT)\n",
    "    \n",
    "    if (j % 100000):\n",
    "        name = 'output/linear_sep_ep%d' % j\n",
    "        with open(name, 'wb') as f:\n",
    "            pickle.dump(linear_sep_, f)"
   ]
  },
  {
   "cell_type": "code",
   "execution_count": null,
   "metadata": {},
   "outputs": [],
   "source": []
  },
  {
   "cell_type": "code",
   "execution_count": null,
   "metadata": {},
   "outputs": [],
   "source": []
  },
  {
   "cell_type": "code",
   "execution_count": null,
   "metadata": {},
   "outputs": [],
   "source": []
  },
  {
   "cell_type": "code",
   "execution_count": null,
   "metadata": {},
   "outputs": [],
   "source": []
  },
  {
   "cell_type": "code",
   "execution_count": null,
   "metadata": {
    "scrolled": true
   },
   "outputs": [],
   "source": [
    "#slicing = 100\n",
    "slicing = len(epoch)\n",
    "\n",
    "f = plt.figure(figsize=(15,4))\n",
    "\n",
    "scatters = plt.scatter(epoch[0:slicing], layer[0:slicing], c= linear_sep_[0:slicing])\n",
    "cbar = plt.colorbar(scatters)\n",
    "cbar.ax.set_yticklabels(['0', '', '', '', '', '1'])\n",
    "cbar.set_label('Linear Sep', fontsize= 15, rotation= 90)\n",
    "plt.ylabel('Layer', fontsize= 15)\n",
    "plt.xlabel('Epoch', fontsize= 15)\n",
    "#plt.xscale('log')\n",
    "plt.show()"
   ]
  },
  {
   "cell_type": "code",
   "execution_count": null,
   "metadata": {},
   "outputs": [],
   "source": [
    "slicing = 100\n",
    "#slicing = len(epoch)\n",
    "\n",
    "f = plt.figure(figsize=(15,4))\n",
    "\n",
    "scatters = plt.scatter(epoch[0:slicing], layer[0:slicing], c= linear_sep__[0:slicing])\n",
    "cbar = plt.colorbar(scatters)\n",
    "cbar.ax.set_yticklabels(['0', '', '', '', '', '1'])\n",
    "cbar.set_label('Linear Sep', fontsize= 15, rotation= 90)\n",
    "plt.ylabel('Layer', fontsize= 15)\n",
    "plt.xlabel('Epoch', fontsize= 15)\n",
    "plt.xscale('log')\n",
    "plt.show()"
   ]
  },
  {
   "cell_type": "code",
   "execution_count": null,
   "metadata": {},
   "outputs": [],
   "source": [
    "f, (ax1, ax2, ax3, ax4) = plt.subplots(4, \n",
    "                                       sharex=True,\n",
    "                                       sharey=True,\n",
    "                                       figsize=(10,15))\n",
    "ax1.plot(l_minus_minus_x, marker='.', label= '$x_0$ = %d' % l_minus_minus_x[0])\n",
    "ax1.plot(l_minus_minus_y, marker='.', label= '$y_0$ = %d' % l_minus_minus_y[0])\n",
    "ax1.legend(fontsize= 12)\n",
    "ax2.plot(l_minus_plus_x, marker='.', label= '$x_0$ = %d' % l_minus_plus_x[0])\n",
    "ax2.plot(l_minus_plus_y, marker='.', label= '$y_0$ = %d' % l_minus_plus_y[0])\n",
    "ax2.legend(fontsize= 12)\n",
    "ax3.plot(l_plus_minus_x, marker='.', label= '$x_0$ = %d' % l_plus_minus_x[0])\n",
    "ax3.plot(l_plus_minus_y, marker='.', label= '$y_0$ = %d' % l_plus_minus_y[0])\n",
    "ax3.legend(fontsize= 12)\n",
    "ax4.plot(l_plus_plus_x, marker='.', label= '$x_0$ = %d' % l_plus_plus_x[0])\n",
    "ax4.plot(l_plus_plus_y, marker='.', label= '$y_0$ = %d' % l_plus_plus_y[0])\n",
    "ax4.legend(fontsize= 12)\n",
    "ax4.set_xlabel('Epochs', fontsize= 15)\n",
    "\n",
    "# Fine-tune figure; make subplots close to each other and hide x ticks for\n",
    "# all but bottom plot.\n",
    "f.subplots_adjust(hspace=0)\n",
    "plt.setp([a.get_xticklabels() for a in f.axes[:-1]], visible=False)\n",
    "#plt.xlim(-10, 1000)\n",
    "#plt.legend()\n",
    "plt.show()"
   ]
  },
  {
   "cell_type": "markdown",
   "metadata": {},
   "source": [
    "## Information processing"
   ]
  },
  {
   "cell_type": "code",
   "execution_count": null,
   "metadata": {},
   "outputs": [],
   "source": [
    "nn_trained = NeuralNetwork(net_arch,\n",
    "                           act= 'tanh',\n",
    "                           W= weights[-1])"
   ]
  },
  {
   "cell_type": "code",
   "execution_count": null,
   "metadata": {},
   "outputs": [],
   "source": [
    "x_dynamics = nn_trained.forward(X)"
   ]
  },
  {
   "cell_type": "code",
   "execution_count": null,
   "metadata": {},
   "outputs": [],
   "source": [
    "x_dynamics[-1]"
   ]
  },
  {
   "cell_type": "code",
   "execution_count": null,
   "metadata": {},
   "outputs": [],
   "source": [
    "l_minus_minus_x = []\n",
    "l_minus_minus_y = []\n",
    "l_minus_plus_x = []\n",
    "l_minus_plus_y = []\n",
    "l_plus_minus_x = []\n",
    "l_plus_minus_y = []\n",
    "l_plus_plus_x = []\n",
    "l_plus_plus_y = []\n",
    "\n",
    "\n",
    "for j in range(len(x_dynamics) - 1):\n",
    "    \n",
    "    l_minus_minus_x.append(x_dynamics[j][0][0])\n",
    "    l_minus_minus_y.append(x_dynamics[j][0][1])\n",
    "    l_minus_plus_x.append(x_dynamics[j][1][0])\n",
    "    l_minus_plus_y.append(x_dynamics[j][1][1])\n",
    "    l_plus_minus_x.append(x_dynamics[j][2][0])\n",
    "    l_plus_minus_y.append(x_dynamics[j][2][1])\n",
    "    l_plus_plus_x.append(x_dynamics[j][3][0])\n",
    "    l_plus_plus_y.append(x_dynamics[j][3][1])"
   ]
  },
  {
   "cell_type": "code",
   "execution_count": null,
   "metadata": {},
   "outputs": [],
   "source": [
    "plot_dynamics(l_minus_minus_x, l_minus_minus_y,\n",
    "              l_minus_plus_x, l_minus_plus_y,\n",
    "              l_plus_minus_x, l_plus_minus_y,\n",
    "              l_plus_plus_x, l_plus_plus_y,\n",
    "              training= False)"
   ]
  },
  {
   "cell_type": "code",
   "execution_count": null,
   "metadata": {},
   "outputs": [],
   "source": [
    "for j in range(len(l_minus_minus_x)):\n",
    "    \n",
    "    ints = closed_segment_intersect([l_minus_minus_x[j], l_minus_minus_y[j]], \n",
    "                                    [l_plus_plus_x[j], l_plus_plus_y[j]],\n",
    "                                    [l_minus_plus_x[j], l_minus_plus_y[j]], \n",
    "                                    [l_plus_minus_x[j], l_plus_minus_y[j]])\n",
    "    \n",
    "    sep = bool(abs(int(ints) - 1 ))\n",
    "    \n",
    "    print('Layer = %d' %j, 'Sep = %s' %sep)"
   ]
  },
  {
   "cell_type": "code",
   "execution_count": null,
   "metadata": {},
   "outputs": [],
   "source": [
    "def plot_dynamics(l_minus_minus_x, l_minus_minus_y,\n",
    "                  l_minus_plus_x, l_minus_plus_y,\n",
    "                  l_plus_minus_x, l_plus_minus_y,\n",
    "                  l_plus_plus_x, l_plus_plus_y, \n",
    "                  training= False):\n",
    "    \n",
    "    if training:\n",
    "        title = 'Training dynamics'\n",
    "    else:\n",
    "        title = 'Layer dynamics'\n",
    "    \n",
    "    \n",
    "    xq = np.array(l_minus_minus_x)\n",
    "    yq = np.array(l_minus_minus_y)\n",
    "\n",
    "    plt.quiver(xq[:-1], yq[:-1], xq[1:]-xq[:-1], yq[1:]-yq[:-1], \n",
    "               scale_units= 'xy', \n",
    "               angles= 'xy', \n",
    "               scale= 1,\n",
    "               width= 0.005,\n",
    "               color= 'b', \n",
    "               headwidth= 5)\n",
    "    plt.plot(xq, yq, 'o', markersize= 0.5, color= 'b')\n",
    "\n",
    "    ###############################\n",
    "\n",
    "    xq = np.array(l_minus_plus_x)\n",
    "    yq = np.array(l_minus_plus_y)\n",
    "\n",
    "    plt.quiver(xq[:-1], yq[:-1], xq[1:]-xq[:-1], yq[1:]-yq[:-1], \n",
    "               scale_units= 'xy', \n",
    "               angles= 'xy', \n",
    "               scale= 1,\n",
    "               width= 0.005,\n",
    "               color= 'r',\n",
    "               headwidth= 5)\n",
    "    plt.plot(xq, yq, 'o', markersize= 0.5, color= 'r')\n",
    "\n",
    "    ###############################\n",
    "\n",
    "    xq = np.array(l_plus_minus_x)\n",
    "    yq = np.array(l_plus_minus_y)\n",
    "\n",
    "    plt.quiver(xq[:-1], yq[:-1], xq[1:]-xq[:-1], yq[1:]-yq[:-1], \n",
    "               scale_units= 'xy', \n",
    "               angles= 'xy', \n",
    "               scale= 1,\n",
    "               width= 0.005,\n",
    "               color= 'g',\n",
    "               headwidth= 5)\n",
    "    plt.plot(xq, yq, 'o', markersize= 0.5, color= 'g')\n",
    "\n",
    "    ###############################\n",
    "\n",
    "    xq = np.array(l_plus_plus_x)\n",
    "    yq = np.array(l_plus_plus_y)\n",
    "    \n",
    "    plt.quiver(xq[:-1], yq[:-1], xq[1:]-xq[:-1], yq[1:]-yq[:-1], \n",
    "               scale_units= 'xy', \n",
    "               angles= 'xy', \n",
    "               scale= 1,\n",
    "               width= 0.005,\n",
    "               color= 'm',\n",
    "               headwidth= 5)\n",
    "    plt.plot(xq, yq, 'o', markersize= 0.5, color= 'm')\n",
    "\n",
    "    plt.grid()\n",
    "    plt.title(title, fontsize= 20)\n",
    "    plt.show()\n",
    "    \n",
    "    "
   ]
  },
  {
   "cell_type": "code",
   "execution_count": null,
   "metadata": {},
   "outputs": [],
   "source": []
  }
 ],
 "metadata": {
  "kernelspec": {
   "display_name": "Python 3",
   "language": "python",
   "name": "python3"
  },
  "language_info": {
   "codemirror_mode": {
    "name": "ipython",
    "version": 3
   },
   "file_extension": ".py",
   "mimetype": "text/x-python",
   "name": "python",
   "nbconvert_exporter": "python",
   "pygments_lexer": "ipython3",
   "version": "3.7.3"
  }
 },
 "nbformat": 4,
 "nbformat_minor": 2
}
