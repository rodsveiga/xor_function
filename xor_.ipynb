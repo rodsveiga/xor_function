{
 "cells": [
  {
   "cell_type": "markdown",
   "metadata": {},
   "source": [
    "# Code Example of a Neural Network for The Function XOR\n",
    "\n",
    "Based on the implementation by [Chih-Ling Hsu](https://chih-ling-hsu.github.io/2017/08/30/NN-XOR)."
   ]
  },
  {
   "cell_type": "code",
   "execution_count": 1,
   "metadata": {},
   "outputs": [],
   "source": [
    "import numpy as np\n",
    "from matplotlib.colors import ListedColormap\n",
    "import matplotlib.pyplot as plt\n",
    "from matplotlib import colors\n",
    "np.random.seed(12)"
   ]
  },
  {
   "cell_type": "code",
   "execution_count": 2,
   "metadata": {},
   "outputs": [],
   "source": [
    "def sig(x):\n",
    "    beta= 1.0\n",
    "    return 1.0 / (1.0 + np.exp(-beta*x))\n",
    "\n",
    "def sig_derivative(y):\n",
    "    beta= 1.0\n",
    "    return beta*y*(1.0 - y)"
   ]
  },
  {
   "cell_type": "code",
   "execution_count": 3,
   "metadata": {},
   "outputs": [],
   "source": [
    "def tanh(x):\n",
    "    beta= 1.0\n",
    "    return (1.0 - np.exp(-2*beta*x))/(1.0 + np.exp(-2*beta*x))\n",
    "\n",
    "def tanh_derivative(y):\n",
    "    beta= 1.0\n",
    "    return beta*(1.0 + y)*(1.0 - y)  "
   ]
  },
  {
   "cell_type": "code",
   "execution_count": 5,
   "metadata": {},
   "outputs": [],
   "source": [
    "net_arch = [2, 2, 2, 2, 2, 2, 2, 2, 1]\n",
    "weights = []\n",
    "layers = len(net_arch)\n",
    "\n",
    "for layer in range(layers - 1):\n",
    "    \n",
    "    w_ = 2*np.random.rand(net_arch[layer] + 1, net_arch[layer+1]) - 1\n",
    "    weights.append(w_)"
   ]
  },
  {
   "cell_type": "code",
   "execution_count": 6,
   "metadata": {},
   "outputs": [],
   "source": [
    "class NeuralNetwork:\n",
    "    #########\n",
    "    # parameters\n",
    "    # ----------\n",
    "    # self:      the class object itself\n",
    "    # net_arch:  consists of a list of integers, indicating\n",
    "    #            the number of neurons in each layer, i.e. the network architecture\n",
    "    #########\n",
    "    def __init__(self, \n",
    "                 net_arch,\n",
    "                 act= 'sig',\n",
    "                 W= None):\n",
    "        \n",
    "        np.random.seed(0)\n",
    "        \n",
    "        if act == 'sig':\n",
    "            self.activity = sig\n",
    "            self.activity_derivative = sig_derivative\n",
    "            \n",
    "        if act == 'tanh':\n",
    "            self.activity = tanh\n",
    "            self.activity_derivative = tanh_derivative\n",
    "            \n",
    "        # Initialized the weights, making sure we also \n",
    "        # initialize the weights for the biases that we will add later\n",
    "        self.layers = len(net_arch)\n",
    "        self.steps_per_epoch = 1\n",
    "        self.arch = net_arch\n",
    "        \n",
    "        if W is None:\n",
    "            self.weights = []\n",
    "            # Random initialization with range of weight values (-1,1)\n",
    "            for layer in range(self.layers - 1):\n",
    "                w_ = 2*np.random.rand(net_arch[layer] + 1, net_arch[layer+1]) - 1\n",
    "                self.weights.append(w_)\n",
    "        else:\n",
    "            self.weights = W\n",
    "    \n",
    "    def _forward_prop(self, x):\n",
    "        y = x\n",
    "\n",
    "        for i in range(len(self.weights)-1):\n",
    "            activation = np.dot(y[i], self.weights[i])\n",
    "            activity = self.activity(activation)\n",
    "\n",
    "            # add the bias for the next layer ### CHECK THOSE BIAS\n",
    "            activity = np.concatenate((np.ones(1), np.array(activity)))\n",
    "            y.append(activity)\n",
    "\n",
    "        # last layer\n",
    "        activation = np.dot(y[-1], self.weights[-1])\n",
    "        activity = self.activity(activation)\n",
    "        y.append(activity)\n",
    "        \n",
    "        return y\n",
    "    \n",
    "    \n",
    "    def forward(self, x):\n",
    "        \n",
    "        ones = np.ones((1, x.shape[0]))\n",
    "        Z = np.concatenate((ones.T, x), axis=1)\n",
    "\n",
    "              \n",
    "        int_ = []\n",
    "        int_.append(x)\n",
    "        \n",
    "        for i in range(len(self.weights)-1):\n",
    "            \n",
    "            activation = np.dot(Z, self.weights[i])\n",
    "            activity = self.activity(activation)\n",
    "            \n",
    "            int_.append(activity)\n",
    "            \n",
    "            Z = activity\n",
    "            Z = np.concatenate((ones.T, Z), axis=1)\n",
    "            \n",
    "        # Last layer\n",
    "        activation = np.dot(Z, self.weights[-1])\n",
    "        activity = self.activity(activation)\n",
    "        int_.append(activity)\n",
    "        \n",
    "        return int_\n",
    "        \n",
    "    def _back_prop(self, y, target, learning_rate):\n",
    "        \n",
    "        error = target - y[-1]\n",
    "        delta_vec = [error * self.activity_derivative(y[-1])]\n",
    "\n",
    "        # we need to begin from the back, from the next to last layer\n",
    "        for i in range(self.layers-2, 0, -1):\n",
    "            error = delta_vec[-1].dot(self.weights[i][1:].T)\n",
    "            error = error*self.activity_derivative(y[i][1:])\n",
    "            delta_vec.append(error)\n",
    "\n",
    "        # Now we need to set the values from back to front\n",
    "        delta_vec.reverse()\n",
    "        \n",
    "        # Finally, we adjust the weights, using the backpropagation rules\n",
    "        for i in range(len(self.weights)):\n",
    "            layer = y[i].reshape(1, self.arch[i]+1)\n",
    "            delta = delta_vec[i].reshape(1, self.arch[i+1])\n",
    "            self.weights[i] += learning_rate*layer.T.dot(delta)\n",
    "            \n",
    "    \n",
    "    #########\n",
    "    # parameters\n",
    "    # ----------\n",
    "    # self:    the class object itself\n",
    "    # data:    the set of all possible pairs of booleans True or False indicated by the integers 1 or 0\n",
    "    # labels:  the result of the logical operation 'xor' on each of those input pairs\n",
    "    #########\n",
    "    def fit(self, \n",
    "            data,\n",
    "            labels,\n",
    "            learning_rate= 0.1,\n",
    "            epochs= 100,\n",
    "            int_rep= False,\n",
    "            save_weights= False,\n",
    "            int_rep_index= -2):\n",
    "        \n",
    "        # Add bias units to the input layer - \n",
    "        # add a \"1\" to the input data (the always-on bias neuron)\n",
    "        ones = np.ones((1, data.shape[0]))\n",
    "        Z = np.concatenate((ones.T, data), axis=1)\n",
    "        \n",
    "        int_rep_ = []\n",
    "        # Last layer\n",
    "        int_rep_.append(data)\n",
    "        # All layers\n",
    "        #int_rep_.append(self.forward(data))\n",
    "        \n",
    "        saved_weights = []\n",
    "        saved_weights.append(self.weights)\n",
    "        \n",
    "        for k in range(epochs):\n",
    "            if (k+1) % 10000 == 0:\n",
    "                print('epochs: {}'.format(k+1))\n",
    "        \n",
    "            sample = np.random.randint(X.shape[0])\n",
    "\n",
    "            # We will now go ahead and set up our feed-forward propagation:\n",
    "            x = [Z[sample]]\n",
    "            y = self._forward_prop(x)\n",
    "\n",
    "            # Now we do our back-propagation of the error to adjust the weights:\n",
    "            target = labels[sample]\n",
    "            self._back_prop(y, target, learning_rate)\n",
    "\n",
    "            # Internal monitor\n",
    "            if int_rep:\n",
    "                \n",
    "                # Last layer\n",
    "                #lin_bias = np.dot(Z, self.weights[int_rep_index])\n",
    "                #act = self.activity(lin_bias)\n",
    "                #int_rep_.append(act)\n",
    "                # All layers \n",
    "                int_ = self.forward(data)\n",
    "                int_rep_.append(int_)\n",
    "          \n",
    "            if save_weights:\n",
    "                saved_weights.append(self.weights)\n",
    "                      \n",
    "        if int_rep:\n",
    "            if save_weights:\n",
    "                return int_rep_, saved_weights\n",
    "            else:\n",
    "                return int_rep_\n",
    "          \n",
    "    #########\n",
    "    # the predict function is used to check the prediction result of\n",
    "    # this neural network.\n",
    "    # \n",
    "    # parameters\n",
    "    # ----------\n",
    "    # self:   the class object itself\n",
    "    # x:      single input data\n",
    "    #########\n",
    "    \n",
    "    def predict_single_data(self, x):\n",
    "        val = np.concatenate((np.ones(1).T, np.array(x)))\n",
    "        for i in range(0, len(self.weights)):\n",
    "            val = self.activity(np.dot(val, self.weights[i]))\n",
    "            val = np.concatenate((np.ones(1).T, np.array(val)))\n",
    "        return val[1]\n",
    "    \n",
    "    #########\n",
    "    # the predict function is used to check the prediction result of\n",
    "    # this neural network.\n",
    "    # \n",
    "    # parameters\n",
    "    # ----------\n",
    "    # self:   the class object itself\n",
    "    # X:      the input data array\n",
    "    #########\n",
    "    def predict(self, X):\n",
    "        Y = np.array([]).reshape(0, self.arch[-1])\n",
    "        for x in X:\n",
    "            y = np.array([[self.predict_single_data(x)]])\n",
    "            Y = np.vstack((Y,y))\n",
    "        return Y"
   ]
  },
  {
   "cell_type": "code",
   "execution_count": 7,
   "metadata": {},
   "outputs": [],
   "source": [
    "def plot_decision_regions(X, \n",
    "                          y, \n",
    "                          classifier, \n",
    "                          test_idx=None, \n",
    "                          resolution=0.02):\n",
    "\n",
    "    # setup marker generator and color map\n",
    "    markers = ('s', 'x', 'o', '^', 'v')\n",
    "    colors = ('red', 'blue', 'lightgreen', 'gray', 'cyan')\n",
    "    cmap = ListedColormap(colors[:len(np.unique(y))])\n",
    "\n",
    "    # plot the decision surface\n",
    "    x1_min, x1_max = X[:, 0].min() - 1, X[:, 0].max() + 1\n",
    "    x2_min, x2_max = X[:, 1].min() - 1, X[:, 1].max() + 1\n",
    "    xx1, xx2 = np.meshgrid(np.arange(x1_min, x1_max, resolution),\n",
    "                           np.arange(x2_min, x2_max, resolution))\n",
    "    Z = classifier.predict(np.array([xx1.ravel(), xx2.ravel()]).T)\n",
    "    Z = Z.reshape(xx1.shape)\n",
    "    plt.contourf(xx1, xx2, Z, alpha=0.4, cmap=cmap)\n",
    "    plt.xlim(xx1.min(), xx1.max())\n",
    "    plt.ylim(xx2.min(), xx2.max())\n",
    "\n",
    "    # plot class samples\n",
    "    for idx, cl in enumerate(np.unique(y)):\n",
    "        plt.scatter(x=X[y == cl, 0], y=X[y == cl, 1],\n",
    "                    alpha=0.8, c=cmap(idx),\n",
    "                    marker=markers[idx], label=cl)\n",
    "\n",
    "    # highlight test samples\n",
    "    if test_idx:\n",
    "        # plot all samples\n",
    "        X_test, y_test = X[test_idx, :], y[test_idx]\n",
    "\n",
    "        plt.scatter(X_test[:, 0],\n",
    "                    X_test[:, 1],\n",
    "                    c='',\n",
    "                    alpha=1.0,\n",
    "                    linewidths=1,\n",
    "                    marker='o',\n",
    "                    s=55, label='test set')"
   ]
  },
  {
   "cell_type": "code",
   "execution_count": 8,
   "metadata": {},
   "outputs": [
    {
     "name": "stdout",
     "output_type": "stream",
     "text": [
      "epochs: 10000\n",
      "epochs: 20000\n",
      "epochs: 30000\n",
      "epochs: 40000\n",
      "epochs: 50000\n",
      "epochs: 60000\n",
      "epochs: 70000\n",
      "epochs: 80000\n",
      "epochs: 90000\n",
      "epochs: 100000\n",
      "epochs: 110000\n",
      "epochs: 120000\n",
      "epochs: 130000\n",
      "epochs: 140000\n",
      "epochs: 150000\n",
      "epochs: 160000\n",
      "epochs: 170000\n",
      "epochs: 180000\n",
      "epochs: 190000\n",
      "epochs: 200000\n",
      "epochs: 210000\n",
      "epochs: 220000\n",
      "epochs: 230000\n",
      "epochs: 240000\n",
      "epochs: 250000\n",
      "epochs: 260000\n",
      "epochs: 270000\n",
      "epochs: 280000\n",
      "epochs: 290000\n",
      "epochs: 300000\n",
      "epochs: 310000\n",
      "epochs: 320000\n",
      "epochs: 330000\n",
      "epochs: 340000\n",
      "epochs: 350000\n",
      "epochs: 360000\n",
      "epochs: 370000\n",
      "epochs: 380000\n",
      "epochs: 390000\n",
      "epochs: 400000\n",
      "epochs: 410000\n",
      "epochs: 420000\n",
      "epochs: 430000\n",
      "epochs: 440000\n",
      "epochs: 450000\n",
      "epochs: 460000\n",
      "epochs: 470000\n",
      "epochs: 480000\n",
      "epochs: 490000\n",
      "epochs: 500000\n",
      "epochs: 510000\n",
      "epochs: 520000\n",
      "epochs: 530000\n",
      "epochs: 540000\n",
      "epochs: 550000\n",
      "epochs: 560000\n",
      "epochs: 570000\n",
      "epochs: 580000\n",
      "epochs: 590000\n",
      "epochs: 600000\n",
      "epochs: 610000\n",
      "epochs: 620000\n",
      "epochs: 630000\n",
      "epochs: 640000\n",
      "epochs: 650000\n",
      "epochs: 660000\n",
      "epochs: 670000\n",
      "epochs: 680000\n",
      "epochs: 690000\n",
      "epochs: 700000\n",
      "epochs: 710000\n",
      "epochs: 720000\n",
      "epochs: 730000\n",
      "epochs: 740000\n",
      "epochs: 750000\n",
      "epochs: 760000\n",
      "epochs: 770000\n",
      "epochs: 780000\n",
      "epochs: 790000\n",
      "epochs: 800000\n",
      "epochs: 810000\n",
      "epochs: 820000\n",
      "epochs: 830000\n",
      "epochs: 840000\n",
      "epochs: 850000\n",
      "epochs: 860000\n",
      "epochs: 870000\n",
      "epochs: 880000\n",
      "epochs: 890000\n",
      "epochs: 900000\n",
      "epochs: 910000\n",
      "epochs: 920000\n",
      "epochs: 930000\n",
      "epochs: 940000\n",
      "epochs: 950000\n",
      "epochs: 960000\n",
      "epochs: 970000\n",
      "epochs: 980000\n",
      "epochs: 990000\n",
      "epochs: 1000000\n",
      "Final prediction\n",
      "[-1 -1] -0.018999692954626477\n",
      "[-1  1] -0.018999971061953242\n",
      "[ 1 -1] -0.019002222734968505\n",
      "[1 1] -0.019002860577496037\n"
     ]
    }
   ],
   "source": [
    "net_arch = [2, 2, 2, 2, 2, 2, 2, 2, 2, 2, 2, 2, 1]\n",
    "\n",
    "# Initialize the NeuralNetwork\n",
    "nn = NeuralNetwork(net_arch,\n",
    "                   act= 'tanh')\n",
    "\n",
    "# Set the input data\n",
    "X = np.array([[-1, -1], [-1, 1],\n",
    "               [1, -1], [1, 1]])\n",
    "\n",
    "#X = np.array([[0, 0], [0, 1],\n",
    "#                [1, 0], [1, 1]])\n",
    "\n",
    "# Set the labels, the correct results for the xor operation\n",
    "y = np.array([-1, 1, \n",
    "              1, -1])\n",
    "\n",
    "#y = np.array([0, 1, \n",
    "#              1, 0])\n",
    "\n",
    "# Call the fit function and train the network for a chosen number of epochs\n",
    "int_rep, weights = nn.fit(X, \n",
    "                          y,\n",
    "                          epochs= 1000000,\n",
    "                          int_rep= True,\n",
    "                          int_rep_index= -2,\n",
    "                          save_weights= True,\n",
    "                          learning_rate= 0.001)\n",
    "\n",
    "# Show the prediction results\n",
    "print(\"Final prediction\")\n",
    "for s in X:\n",
    "    print(s, nn.predict_single_data(s))"
   ]
  },
  {
   "cell_type": "code",
   "execution_count": 313,
   "metadata": {},
   "outputs": [
    {
     "data": {
      "image/png": "[encoded data removed]",
      "text/plain": [
       "<Figure size 432x288 with 1 Axes>"
      ]
     },
     "metadata": {
      "needs_background": "light"
     },
     "output_type": "display_data"
    }
   ],
   "source": [
    "X = np.array([[-1, -1], [-1, 1],\n",
    "                [1, -1], [1, 1]])\n",
    "\n",
    "#X = np.array([[0, 0], [0, 1],\n",
    "#                [1, 0], [1, 1]])\n",
    "\n",
    "# Set the labels, the correct results for the xor operation\n",
    "y = np.array([-1, 1, \n",
    "                 1, -1])\n",
    "\n",
    "#y = np.array([0, 1, \n",
    "#              1, 0])\n",
    "\n",
    "plot_decision_regions(X, y, nn)\n",
    "plt.xlabel('x')\n",
    "plt.ylabel('y')\n",
    "plt.legend(loc='upper left')\n",
    "plt.tight_layout()\n",
    "plt.show()"
   ]
  },
  {
   "cell_type": "code",
   "execution_count": 314,
   "metadata": {},
   "outputs": [],
   "source": [
    "l_minus_minus_x = []\n",
    "l_minus_minus_y = []\n",
    "l_minus_plus_x = []\n",
    "l_minus_plus_y = []\n",
    "l_plus_minus_x = []\n",
    "l_plus_minus_y = []\n",
    "l_plus_plus_x = []\n",
    "l_plus_plus_y = []\n",
    "\n",
    "\n",
    "for j in range(len(int_rep)):\n",
    "    \n",
    "    l_minus_minus_x.append(int_rep[j][0][0])\n",
    "    l_minus_minus_y.append(int_rep[j][0][1])\n",
    "    l_minus_plus_x.append(int_rep[j][1][0])\n",
    "    l_minus_plus_y.append(int_rep[j][1][1])\n",
    "    l_plus_minus_x.append(int_rep[j][2][0])\n",
    "    l_plus_minus_y.append(int_rep[j][2][1])\n",
    "    l_plus_plus_x.append(int_rep[j][3][0])\n",
    "    l_plus_plus_y.append(int_rep[j][3][1])"
   ]
  },
  {
   "cell_type": "code",
   "execution_count": 13,
   "metadata": {},
   "outputs": [],
   "source": [
    "layer = []\n",
    "epoch = []\n",
    "linear_sep_ = []\n",
    "\n",
    "for j in range(1, len(int_rep)):\n",
    "    for k in range(len(int_rep[1]) - 1 ):\n",
    "             \n",
    "        linear_sep = closed_segment_intersect(list(int_rep[j][k][0]) , list(int_rep[j][k][3]),\n",
    "                                              list(int_rep[j][k][1]) , list(int_rep[j][k][2]))\n",
    "        \n",
    "        linear_sep_.append(linear_sep)\n",
    "        \n",
    "        layer.append(k)\n",
    "        epoch.append(j)\n",
    "        \n",
    "linear_sep__ = [bool(abs(int(x) - 1 )) for x in linear_sep_]"
   ]
  },
  {
   "cell_type": "code",
   "execution_count": 14,
   "metadata": {
    "scrolled": true
   },
   "outputs": [
    {
     "data": {
      "image/png": "[encoded data removed]",
      "text/plain": [
       "<Figure size 1080x288 with 2 Axes>"
      ]
     },
     "metadata": {
      "needs_background": "light"
     },
     "output_type": "display_data"
    }
   ],
   "source": [
    "#slicing = 100\n",
    "slicing = len(epoch)\n",
    "\n",
    "f = plt.figure(figsize=(15,4))\n",
    "\n",
    "scatters = plt.scatter(epoch[0:slicing], layer[0:slicing], c= linear_sep__[0:slicing])\n",
    "cbar = plt.colorbar(scatters)\n",
    "cbar.ax.set_yticklabels(['0', '', '', '', '', '1'])\n",
    "cbar.set_label('Linear Sep', fontsize= 15, rotation= 90)\n",
    "plt.ylabel('Layer', fontsize= 15)\n",
    "plt.xlabel('Epoch', fontsize= 15)\n",
    "plt.xscale('log')\n",
    "plt.show()"
   ]
  },
  {
   "cell_type": "markdown",
   "metadata": {},
   "source": [
    "Note that all points are in the same place. The method, incorrectly, understand them as linearly separable."
   ]
  },
  {
   "cell_type": "code",
   "execution_count": 27,
   "metadata": {},
   "outputs": [
    {
     "data": {
      "text/plain": [
       "array([[-0.17981594, -0.57714804],\n",
       "       [-0.17982232, -0.57715153],\n",
       "       [-0.1798877 , -0.5771863 ],\n",
       "       [-0.17990715, -0.57719659]])"
      ]
     },
     "execution_count": 27,
     "metadata": {},
     "output_type": "execute_result"
    }
   ],
   "source": [
    "int_rep[-1][-2]"
   ]
  },
  {
   "cell_type": "code",
   "execution_count": 28,
   "metadata": {},
   "outputs": [],
   "source": [
    "last = int_rep[-1][-2]"
   ]
  },
  {
   "cell_type": "code",
   "execution_count": 33,
   "metadata": {},
   "outputs": [
    {
     "data": {
      "text/plain": [
       "1.0677215630436944e-08"
      ]
     },
     "execution_count": 33,
     "metadata": {},
     "output_type": "execute_result"
    }
   ],
   "source": [
    "np.sum((last[0] - last[3])**2)"
   ]
  },
  {
   "cell_type": "code",
   "execution_count": 26,
   "metadata": {},
   "outputs": [
    {
     "data": {
      "text/plain": [
       "False"
      ]
     },
     "execution_count": 26,
     "metadata": {},
     "output_type": "execute_result"
    }
   ],
   "source": [
    "closed_segment_intersect(list(int_rep[-1][-2][0]), \n",
    "                         list(int_rep[-1][-2][3]),\n",
    "                         list(int_rep[-1][-2][1]),\n",
    "                         list(int_rep[-1][-2][2]))"
   ]
  },
  {
   "cell_type": "code",
   "execution_count": 15,
   "metadata": {},
   "outputs": [
    {
     "data": {
      "image/png": "[encoded data removed]",
      "text/plain": [
       "<Figure size 1080x288 with 2 Axes>"
      ]
     },
     "metadata": {
      "needs_background": "light"
     },
     "output_type": "display_data"
    }
   ],
   "source": [
    "slicing = 100\n",
    "#slicing = len(epoch)\n",
    "\n",
    "f = plt.figure(figsize=(15,4))\n",
    "\n",
    "scatters = plt.scatter(epoch[0:slicing], layer[0:slicing], c= linear_sep__[0:slicing])\n",
    "cbar = plt.colorbar(scatters)\n",
    "cbar.ax.set_yticklabels(['0', '', '', '', '', '1'])\n",
    "cbar.set_label('Linear Sep', fontsize= 15, rotation= 90)\n",
    "plt.ylabel('Layer', fontsize= 15)\n",
    "plt.xlabel('Epoch', fontsize= 15)\n",
    "plt.xscale('log')\n",
    "plt.show()"
   ]
  },
  {
   "cell_type": "code",
   "execution_count": 34,
   "metadata": {},
   "outputs": [
    {
     "ename": "ValueError",
     "evalue": "setting an array element with a sequence.",
     "output_type": "error",
     "traceback": [
      "\u001b[0;31m---------------------------------------------------------------------------\u001b[0m",
      "\u001b[0;31mValueError\u001b[0m                                Traceback (most recent call last)",
      "\u001b[0;32m<ipython-input-34-d7266b9fe090>\u001b[0m in \u001b[0;36m<module>\u001b[0;34m()\u001b[0m\n\u001b[1;32m      3\u001b[0m                                        \u001b[0msharey\u001b[0m\u001b[0;34m=\u001b[0m\u001b[0;32mTrue\u001b[0m\u001b[0;34m,\u001b[0m\u001b[0;34m\u001b[0m\u001b[0;34m\u001b[0m\u001b[0m\n\u001b[1;32m      4\u001b[0m                                        figsize=(10,15))\n\u001b[0;32m----> 5\u001b[0;31m \u001b[0max1\u001b[0m\u001b[0;34m.\u001b[0m\u001b[0mplot\u001b[0m\u001b[0;34m(\u001b[0m\u001b[0ml_minus_minus_x\u001b[0m\u001b[0;34m,\u001b[0m \u001b[0mmarker\u001b[0m\u001b[0;34m=\u001b[0m\u001b[0;34m'.'\u001b[0m\u001b[0;34m,\u001b[0m \u001b[0mlabel\u001b[0m\u001b[0;34m=\u001b[0m \u001b[0;34m'$x_0$ = %d'\u001b[0m \u001b[0;34m%\u001b[0m \u001b[0ml_minus_minus_x\u001b[0m\u001b[0;34m[\u001b[0m\u001b[0;36m0\u001b[0m\u001b[0;34m]\u001b[0m\u001b[0;34m)\u001b[0m\u001b[0;34m\u001b[0m\u001b[0;34m\u001b[0m\u001b[0m\n\u001b[0m\u001b[1;32m      6\u001b[0m \u001b[0max1\u001b[0m\u001b[0;34m.\u001b[0m\u001b[0mplot\u001b[0m\u001b[0;34m(\u001b[0m\u001b[0ml_minus_minus_y\u001b[0m\u001b[0;34m,\u001b[0m \u001b[0mmarker\u001b[0m\u001b[0;34m=\u001b[0m\u001b[0;34m'.'\u001b[0m\u001b[0;34m,\u001b[0m \u001b[0mlabel\u001b[0m\u001b[0;34m=\u001b[0m \u001b[0;34m'$y_0$ = %d'\u001b[0m \u001b[0;34m%\u001b[0m \u001b[0ml_minus_minus_y\u001b[0m\u001b[0;34m[\u001b[0m\u001b[0;36m0\u001b[0m\u001b[0;34m]\u001b[0m\u001b[0;34m)\u001b[0m\u001b[0;34m\u001b[0m\u001b[0;34m\u001b[0m\u001b[0m\n\u001b[1;32m      7\u001b[0m \u001b[0max1\u001b[0m\u001b[0;34m.\u001b[0m\u001b[0mlegend\u001b[0m\u001b[0;34m(\u001b[0m\u001b[0mfontsize\u001b[0m\u001b[0;34m=\u001b[0m \u001b[0;36m12\u001b[0m\u001b[0;34m)\u001b[0m\u001b[0;34m\u001b[0m\u001b[0;34m\u001b[0m\u001b[0m\n",
      "\u001b[0;32m~/anaconda3/lib/python3.7/site-packages/matplotlib/__init__.py\u001b[0m in \u001b[0;36minner\u001b[0;34m(ax, *args, **kwargs)\u001b[0m\n\u001b[1;32m   1865\u001b[0m                         \u001b[0;34m\"the Matplotlib list!)\"\u001b[0m \u001b[0;34m%\u001b[0m \u001b[0;34m(\u001b[0m\u001b[0mlabel_namer\u001b[0m\u001b[0;34m,\u001b[0m \u001b[0mfunc\u001b[0m\u001b[0;34m.\u001b[0m\u001b[0m__name__\u001b[0m\u001b[0;34m)\u001b[0m\u001b[0;34m,\u001b[0m\u001b[0;34m\u001b[0m\u001b[0;34m\u001b[0m\u001b[0m\n\u001b[1;32m   1866\u001b[0m                         RuntimeWarning, stacklevel=2)\n\u001b[0;32m-> 1867\u001b[0;31m             \u001b[0;32mreturn\u001b[0m \u001b[0mfunc\u001b[0m\u001b[0;34m(\u001b[0m\u001b[0max\u001b[0m\u001b[0;34m,\u001b[0m \u001b[0;34m*\u001b[0m\u001b[0margs\u001b[0m\u001b[0;34m,\u001b[0m \u001b[0;34m**\u001b[0m\u001b[0mkwargs\u001b[0m\u001b[0;34m)\u001b[0m\u001b[0;34m\u001b[0m\u001b[0;34m\u001b[0m\u001b[0m\n\u001b[0m\u001b[1;32m   1868\u001b[0m \u001b[0;34m\u001b[0m\u001b[0m\n\u001b[1;32m   1869\u001b[0m         inner.__doc__ = _add_data_doc(inner.__doc__,\n",
      "\u001b[0;32m~/anaconda3/lib/python3.7/site-packages/matplotlib/axes/_axes.py\u001b[0m in \u001b[0;36mplot\u001b[0;34m(self, *args, **kwargs)\u001b[0m\n\u001b[1;32m   1527\u001b[0m \u001b[0;34m\u001b[0m\u001b[0m\n\u001b[1;32m   1528\u001b[0m         \u001b[0;32mfor\u001b[0m \u001b[0mline\u001b[0m \u001b[0;32min\u001b[0m \u001b[0mself\u001b[0m\u001b[0;34m.\u001b[0m\u001b[0m_get_lines\u001b[0m\u001b[0;34m(\u001b[0m\u001b[0;34m*\u001b[0m\u001b[0margs\u001b[0m\u001b[0;34m,\u001b[0m \u001b[0;34m**\u001b[0m\u001b[0mkwargs\u001b[0m\u001b[0;34m)\u001b[0m\u001b[0;34m:\u001b[0m\u001b[0;34m\u001b[0m\u001b[0;34m\u001b[0m\u001b[0m\n\u001b[0;32m-> 1529\u001b[0;31m             \u001b[0mself\u001b[0m\u001b[0;34m.\u001b[0m\u001b[0madd_line\u001b[0m\u001b[0;34m(\u001b[0m\u001b[0mline\u001b[0m\u001b[0;34m)\u001b[0m\u001b[0;34m\u001b[0m\u001b[0;34m\u001b[0m\u001b[0m\n\u001b[0m\u001b[1;32m   1530\u001b[0m             \u001b[0mlines\u001b[0m\u001b[0;34m.\u001b[0m\u001b[0mappend\u001b[0m\u001b[0;34m(\u001b[0m\u001b[0mline\u001b[0m\u001b[0;34m)\u001b[0m\u001b[0;34m\u001b[0m\u001b[0;34m\u001b[0m\u001b[0m\n\u001b[1;32m   1531\u001b[0m \u001b[0;34m\u001b[0m\u001b[0m\n",
      "\u001b[0;32m~/anaconda3/lib/python3.7/site-packages/matplotlib/axes/_base.py\u001b[0m in \u001b[0;36madd_line\u001b[0;34m(self, line)\u001b[0m\n\u001b[1;32m   1958\u001b[0m             \u001b[0mline\u001b[0m\u001b[0;34m.\u001b[0m\u001b[0mset_clip_path\u001b[0m\u001b[0;34m(\u001b[0m\u001b[0mself\u001b[0m\u001b[0;34m.\u001b[0m\u001b[0mpatch\u001b[0m\u001b[0;34m)\u001b[0m\u001b[0;34m\u001b[0m\u001b[0;34m\u001b[0m\u001b[0m\n\u001b[1;32m   1959\u001b[0m \u001b[0;34m\u001b[0m\u001b[0m\n\u001b[0;32m-> 1960\u001b[0;31m         \u001b[0mself\u001b[0m\u001b[0;34m.\u001b[0m\u001b[0m_update_line_limits\u001b[0m\u001b[0;34m(\u001b[0m\u001b[0mline\u001b[0m\u001b[0;34m)\u001b[0m\u001b[0;34m\u001b[0m\u001b[0;34m\u001b[0m\u001b[0m\n\u001b[0m\u001b[1;32m   1961\u001b[0m         \u001b[0;32mif\u001b[0m \u001b[0;32mnot\u001b[0m \u001b[0mline\u001b[0m\u001b[0;34m.\u001b[0m\u001b[0mget_label\u001b[0m\u001b[0;34m(\u001b[0m\u001b[0;34m)\u001b[0m\u001b[0;34m:\u001b[0m\u001b[0;34m\u001b[0m\u001b[0;34m\u001b[0m\u001b[0m\n\u001b[1;32m   1962\u001b[0m             \u001b[0mline\u001b[0m\u001b[0;34m.\u001b[0m\u001b[0mset_label\u001b[0m\u001b[0;34m(\u001b[0m\u001b[0;34m'_line%d'\u001b[0m \u001b[0;34m%\u001b[0m \u001b[0mlen\u001b[0m\u001b[0;34m(\u001b[0m\u001b[0mself\u001b[0m\u001b[0;34m.\u001b[0m\u001b[0mlines\u001b[0m\u001b[0;34m)\u001b[0m\u001b[0;34m)\u001b[0m\u001b[0;34m\u001b[0m\u001b[0;34m\u001b[0m\u001b[0m\n",
      "\u001b[0;32m~/anaconda3/lib/python3.7/site-packages/matplotlib/axes/_base.py\u001b[0m in \u001b[0;36m_update_line_limits\u001b[0;34m(self, line)\u001b[0m\n\u001b[1;32m   1980\u001b[0m         \u001b[0mFigures\u001b[0m \u001b[0mout\u001b[0m \u001b[0mthe\u001b[0m \u001b[0mdata\u001b[0m \u001b[0mlimit\u001b[0m \u001b[0mof\u001b[0m \u001b[0mthe\u001b[0m \u001b[0mgiven\u001b[0m \u001b[0mline\u001b[0m\u001b[0;34m,\u001b[0m \u001b[0mupdating\u001b[0m \u001b[0mself\u001b[0m\u001b[0;34m.\u001b[0m\u001b[0mdataLim\u001b[0m\u001b[0;34m.\u001b[0m\u001b[0;34m\u001b[0m\u001b[0;34m\u001b[0m\u001b[0m\n\u001b[1;32m   1981\u001b[0m         \"\"\"\n\u001b[0;32m-> 1982\u001b[0;31m         \u001b[0mpath\u001b[0m \u001b[0;34m=\u001b[0m \u001b[0mline\u001b[0m\u001b[0;34m.\u001b[0m\u001b[0mget_path\u001b[0m\u001b[0;34m(\u001b[0m\u001b[0;34m)\u001b[0m\u001b[0;34m\u001b[0m\u001b[0;34m\u001b[0m\u001b[0m\n\u001b[0m\u001b[1;32m   1983\u001b[0m         \u001b[0;32mif\u001b[0m \u001b[0mpath\u001b[0m\u001b[0;34m.\u001b[0m\u001b[0mvertices\u001b[0m\u001b[0;34m.\u001b[0m\u001b[0msize\u001b[0m \u001b[0;34m==\u001b[0m \u001b[0;36m0\u001b[0m\u001b[0;34m:\u001b[0m\u001b[0;34m\u001b[0m\u001b[0;34m\u001b[0m\u001b[0m\n\u001b[1;32m   1984\u001b[0m             \u001b[0;32mreturn\u001b[0m\u001b[0;34m\u001b[0m\u001b[0;34m\u001b[0m\u001b[0m\n",
      "\u001b[0;32m~/anaconda3/lib/python3.7/site-packages/matplotlib/lines.py\u001b[0m in \u001b[0;36mget_path\u001b[0;34m(self)\u001b[0m\n\u001b[1;32m    954\u001b[0m         \"\"\"\n\u001b[1;32m    955\u001b[0m         \u001b[0;32mif\u001b[0m \u001b[0mself\u001b[0m\u001b[0;34m.\u001b[0m\u001b[0m_invalidy\u001b[0m \u001b[0;32mor\u001b[0m \u001b[0mself\u001b[0m\u001b[0;34m.\u001b[0m\u001b[0m_invalidx\u001b[0m\u001b[0;34m:\u001b[0m\u001b[0;34m\u001b[0m\u001b[0;34m\u001b[0m\u001b[0m\n\u001b[0;32m--> 956\u001b[0;31m             \u001b[0mself\u001b[0m\u001b[0;34m.\u001b[0m\u001b[0mrecache\u001b[0m\u001b[0;34m(\u001b[0m\u001b[0;34m)\u001b[0m\u001b[0;34m\u001b[0m\u001b[0;34m\u001b[0m\u001b[0m\n\u001b[0m\u001b[1;32m    957\u001b[0m         \u001b[0;32mreturn\u001b[0m \u001b[0mself\u001b[0m\u001b[0;34m.\u001b[0m\u001b[0m_path\u001b[0m\u001b[0;34m\u001b[0m\u001b[0;34m\u001b[0m\u001b[0m\n\u001b[1;32m    958\u001b[0m \u001b[0;34m\u001b[0m\u001b[0m\n",
      "\u001b[0;32m~/anaconda3/lib/python3.7/site-packages/matplotlib/lines.py\u001b[0m in \u001b[0;36mrecache\u001b[0;34m(self, always)\u001b[0m\n\u001b[1;32m    655\u001b[0m         \u001b[0;32mif\u001b[0m \u001b[0malways\u001b[0m \u001b[0;32mor\u001b[0m \u001b[0mself\u001b[0m\u001b[0;34m.\u001b[0m\u001b[0m_invalidy\u001b[0m\u001b[0;34m:\u001b[0m\u001b[0;34m\u001b[0m\u001b[0;34m\u001b[0m\u001b[0m\n\u001b[1;32m    656\u001b[0m             \u001b[0myconv\u001b[0m \u001b[0;34m=\u001b[0m \u001b[0mself\u001b[0m\u001b[0;34m.\u001b[0m\u001b[0mconvert_yunits\u001b[0m\u001b[0;34m(\u001b[0m\u001b[0mself\u001b[0m\u001b[0;34m.\u001b[0m\u001b[0m_yorig\u001b[0m\u001b[0;34m)\u001b[0m\u001b[0;34m\u001b[0m\u001b[0;34m\u001b[0m\u001b[0m\n\u001b[0;32m--> 657\u001b[0;31m             \u001b[0my\u001b[0m \u001b[0;34m=\u001b[0m \u001b[0m_to_unmasked_float_array\u001b[0m\u001b[0;34m(\u001b[0m\u001b[0myconv\u001b[0m\u001b[0;34m)\u001b[0m\u001b[0;34m.\u001b[0m\u001b[0mravel\u001b[0m\u001b[0;34m(\u001b[0m\u001b[0;34m)\u001b[0m\u001b[0;34m\u001b[0m\u001b[0;34m\u001b[0m\u001b[0m\n\u001b[0m\u001b[1;32m    658\u001b[0m         \u001b[0;32melse\u001b[0m\u001b[0;34m:\u001b[0m\u001b[0;34m\u001b[0m\u001b[0;34m\u001b[0m\u001b[0m\n\u001b[1;32m    659\u001b[0m             \u001b[0my\u001b[0m \u001b[0;34m=\u001b[0m \u001b[0mself\u001b[0m\u001b[0;34m.\u001b[0m\u001b[0m_y\u001b[0m\u001b[0;34m\u001b[0m\u001b[0;34m\u001b[0m\u001b[0m\n",
      "\u001b[0;32m~/anaconda3/lib/python3.7/site-packages/matplotlib/cbook/__init__.py\u001b[0m in \u001b[0;36m_to_unmasked_float_array\u001b[0;34m(x)\u001b[0m\n\u001b[1;32m   2050\u001b[0m         \u001b[0;32mreturn\u001b[0m \u001b[0mnp\u001b[0m\u001b[0;34m.\u001b[0m\u001b[0mma\u001b[0m\u001b[0;34m.\u001b[0m\u001b[0masarray\u001b[0m\u001b[0;34m(\u001b[0m\u001b[0mx\u001b[0m\u001b[0;34m,\u001b[0m \u001b[0mfloat\u001b[0m\u001b[0;34m)\u001b[0m\u001b[0;34m.\u001b[0m\u001b[0mfilled\u001b[0m\u001b[0;34m(\u001b[0m\u001b[0mnp\u001b[0m\u001b[0;34m.\u001b[0m\u001b[0mnan\u001b[0m\u001b[0;34m)\u001b[0m\u001b[0;34m\u001b[0m\u001b[0;34m\u001b[0m\u001b[0m\n\u001b[1;32m   2051\u001b[0m     \u001b[0;32melse\u001b[0m\u001b[0;34m:\u001b[0m\u001b[0;34m\u001b[0m\u001b[0;34m\u001b[0m\u001b[0m\n\u001b[0;32m-> 2052\u001b[0;31m         \u001b[0;32mreturn\u001b[0m \u001b[0mnp\u001b[0m\u001b[0;34m.\u001b[0m\u001b[0masarray\u001b[0m\u001b[0;34m(\u001b[0m\u001b[0mx\u001b[0m\u001b[0;34m,\u001b[0m \u001b[0mfloat\u001b[0m\u001b[0;34m)\u001b[0m\u001b[0;34m\u001b[0m\u001b[0;34m\u001b[0m\u001b[0m\n\u001b[0m\u001b[1;32m   2053\u001b[0m \u001b[0;34m\u001b[0m\u001b[0m\n\u001b[1;32m   2054\u001b[0m \u001b[0;34m\u001b[0m\u001b[0m\n",
      "\u001b[0;32m~/anaconda3/lib/python3.7/site-packages/numpy/core/numeric.py\u001b[0m in \u001b[0;36masarray\u001b[0;34m(a, dtype, order)\u001b[0m\n\u001b[1;32m    536\u001b[0m \u001b[0;34m\u001b[0m\u001b[0m\n\u001b[1;32m    537\u001b[0m     \"\"\"\n\u001b[0;32m--> 538\u001b[0;31m     \u001b[0;32mreturn\u001b[0m \u001b[0marray\u001b[0m\u001b[0;34m(\u001b[0m\u001b[0ma\u001b[0m\u001b[0;34m,\u001b[0m \u001b[0mdtype\u001b[0m\u001b[0;34m,\u001b[0m \u001b[0mcopy\u001b[0m\u001b[0;34m=\u001b[0m\u001b[0;32mFalse\u001b[0m\u001b[0;34m,\u001b[0m \u001b[0morder\u001b[0m\u001b[0;34m=\u001b[0m\u001b[0morder\u001b[0m\u001b[0;34m)\u001b[0m\u001b[0;34m\u001b[0m\u001b[0;34m\u001b[0m\u001b[0m\n\u001b[0m\u001b[1;32m    539\u001b[0m \u001b[0;34m\u001b[0m\u001b[0m\n\u001b[1;32m    540\u001b[0m \u001b[0;34m\u001b[0m\u001b[0m\n",
      "\u001b[0;31mValueError\u001b[0m: setting an array element with a sequence."
     ]
    },
    {
     "data": {
      "image/png": "[encoded data removed]",
      "text/plain": [
       "<Figure size 720x1080 with 4 Axes>"
      ]
     },
     "metadata": {
      "needs_background": "light"
     },
     "output_type": "display_data"
    }
   ],
   "source": [
    "f, (ax1, ax2, ax3, ax4) = plt.subplots(4, \n",
    "                                       sharex=True,\n",
    "                                       sharey=True,\n",
    "                                       figsize=(10,15))\n",
    "ax1.plot(l_minus_minus_x, marker='.', label= '$x_0$ = %d' % l_minus_minus_x[0])\n",
    "ax1.plot(l_minus_minus_y, marker='.', label= '$y_0$ = %d' % l_minus_minus_y[0])\n",
    "ax1.legend(fontsize= 12)\n",
    "ax2.plot(l_minus_plus_x, marker='.', label= '$x_0$ = %d' % l_minus_plus_x[0])\n",
    "ax2.plot(l_minus_plus_y, marker='.', label= '$y_0$ = %d' % l_minus_plus_y[0])\n",
    "ax2.legend(fontsize= 12)\n",
    "ax3.plot(l_plus_minus_x, marker='.', label= '$x_0$ = %d' % l_plus_minus_x[0])\n",
    "ax3.plot(l_plus_minus_y, marker='.', label= '$y_0$ = %d' % l_plus_minus_y[0])\n",
    "ax3.legend(fontsize= 12)\n",
    "ax4.plot(l_plus_plus_x, marker='.', label= '$x_0$ = %d' % l_plus_plus_x[0])\n",
    "ax4.plot(l_plus_plus_y, marker='.', label= '$y_0$ = %d' % l_plus_plus_y[0])\n",
    "ax4.legend(fontsize= 12)\n",
    "ax4.set_xlabel('Epochs', fontsize= 15)\n",
    "\n",
    "# Fine-tune figure; make subplots close to each other and hide x ticks for\n",
    "# all but bottom plot.\n",
    "f.subplots_adjust(hspace=0)\n",
    "plt.setp([a.get_xticklabels() for a in f.axes[:-1]], visible=False)\n",
    "#plt.xlim(-10, 1000)\n",
    "#plt.legend()\n",
    "plt.show()"
   ]
  },
  {
   "cell_type": "markdown",
   "metadata": {},
   "source": [
    "## Information processing"
   ]
  },
  {
   "cell_type": "code",
   "execution_count": 166,
   "metadata": {},
   "outputs": [],
   "source": [
    "nn_trained = NeuralNetwork(net_arch,\n",
    "                           act= 'tanh',\n",
    "                           W= weights[-1])"
   ]
  },
  {
   "cell_type": "code",
   "execution_count": 167,
   "metadata": {},
   "outputs": [],
   "source": [
    "x_dynamics = nn_trained.forward(X)"
   ]
  },
  {
   "cell_type": "code",
   "execution_count": 168,
   "metadata": {},
   "outputs": [
    {
     "data": {
      "text/plain": [
       "array([[-0.98958448],\n",
       "       [ 0.9899795 ],\n",
       "       [ 0.99040808],\n",
       "       [-0.9899264 ]])"
      ]
     },
     "execution_count": 168,
     "metadata": {},
     "output_type": "execute_result"
    }
   ],
   "source": [
    "x_dynamics[-1]"
   ]
  },
  {
   "cell_type": "code",
   "execution_count": 169,
   "metadata": {},
   "outputs": [],
   "source": [
    "l_minus_minus_x = []\n",
    "l_minus_minus_y = []\n",
    "l_minus_plus_x = []\n",
    "l_minus_plus_y = []\n",
    "l_plus_minus_x = []\n",
    "l_plus_minus_y = []\n",
    "l_plus_plus_x = []\n",
    "l_plus_plus_y = []\n",
    "\n",
    "\n",
    "for j in range(len(x_dynamics) - 1):\n",
    "    \n",
    "    l_minus_minus_x.append(x_dynamics[j][0][0])\n",
    "    l_minus_minus_y.append(x_dynamics[j][0][1])\n",
    "    l_minus_plus_x.append(x_dynamics[j][1][0])\n",
    "    l_minus_plus_y.append(x_dynamics[j][1][1])\n",
    "    l_plus_minus_x.append(x_dynamics[j][2][0])\n",
    "    l_plus_minus_y.append(x_dynamics[j][2][1])\n",
    "    l_plus_plus_x.append(x_dynamics[j][3][0])\n",
    "    l_plus_plus_y.append(x_dynamics[j][3][1])"
   ]
  },
  {
   "cell_type": "code",
   "execution_count": 170,
   "metadata": {},
   "outputs": [
    {
     "data": {
      "image/png": "[encoded data removed]",
      "text/plain": [
       "<Figure size 432x288 with 1 Axes>"
      ]
     },
     "metadata": {
      "needs_background": "light"
     },
     "output_type": "display_data"
    }
   ],
   "source": [
    "plot_dynamics(l_minus_minus_x, l_minus_minus_y,\n",
    "              l_minus_plus_x, l_minus_plus_y,\n",
    "              l_plus_minus_x, l_plus_minus_y,\n",
    "              l_plus_plus_x, l_plus_plus_y,\n",
    "              training= False)"
   ]
  },
  {
   "cell_type": "code",
   "execution_count": 191,
   "metadata": {},
   "outputs": [
    {
     "name": "stdout",
     "output_type": "stream",
     "text": [
      "Layer = 0 Sep = False\n",
      "Layer = 1 Sep = False\n",
      "Layer = 2 Sep = True\n",
      "Layer = 3 Sep = True\n",
      "Layer = 4 Sep = True\n",
      "Layer = 5 Sep = True\n",
      "Layer = 6 Sep = True\n",
      "Layer = 7 Sep = True\n"
     ]
    }
   ],
   "source": [
    "for j in range(len(l_minus_minus_x)):\n",
    "    \n",
    "    ints = closed_segment_intersect([l_minus_minus_x[j], l_minus_minus_y[j]], \n",
    "                                    [l_plus_plus_x[j], l_plus_plus_y[j]],\n",
    "                                    [l_minus_plus_x[j], l_minus_plus_y[j]], \n",
    "                                    [l_plus_minus_x[j], l_plus_minus_y[j]])\n",
    "    \n",
    "    sep = bool(abs(int(ints) - 1 ))\n",
    "    \n",
    "    print('Layer = %d' %j, 'Sep = %s' %sep)"
   ]
  },
  {
   "cell_type": "code",
   "execution_count": 11,
   "metadata": {},
   "outputs": [],
   "source": [
    "def plot_dynamics(l_minus_minus_x, l_minus_minus_y,\n",
    "                  l_minus_plus_x, l_minus_plus_y,\n",
    "                  l_plus_minus_x, l_plus_minus_y,\n",
    "                  l_plus_plus_x, l_plus_plus_y, \n",
    "                  training= False):\n",
    "    \n",
    "    if training:\n",
    "        title = 'Training dynamics'\n",
    "    else:\n",
    "        title = 'Layer dynamics'\n",
    "    \n",
    "    \n",
    "    xq = np.array(l_minus_minus_x)\n",
    "    yq = np.array(l_minus_minus_y)\n",
    "\n",
    "    plt.quiver(xq[:-1], yq[:-1], xq[1:]-xq[:-1], yq[1:]-yq[:-1], \n",
    "               scale_units= 'xy', \n",
    "               angles= 'xy', \n",
    "               scale= 1,\n",
    "               width= 0.005,\n",
    "               color= 'b', \n",
    "               headwidth= 5)\n",
    "    plt.plot(xq, yq, 'o', markersize= 0.5, color= 'b')\n",
    "\n",
    "    ###############################\n",
    "\n",
    "    xq = np.array(l_minus_plus_x)\n",
    "    yq = np.array(l_minus_plus_y)\n",
    "\n",
    "    plt.quiver(xq[:-1], yq[:-1], xq[1:]-xq[:-1], yq[1:]-yq[:-1], \n",
    "               scale_units= 'xy', \n",
    "               angles= 'xy', \n",
    "               scale= 1,\n",
    "               width= 0.005,\n",
    "               color= 'r',\n",
    "               headwidth= 5)\n",
    "    plt.plot(xq, yq, 'o', markersize= 0.5, color= 'r')\n",
    "\n",
    "    ###############################\n",
    "\n",
    "    xq = np.array(l_plus_minus_x)\n",
    "    yq = np.array(l_plus_minus_y)\n",
    "\n",
    "    plt.quiver(xq[:-1], yq[:-1], xq[1:]-xq[:-1], yq[1:]-yq[:-1], \n",
    "               scale_units= 'xy', \n",
    "               angles= 'xy', \n",
    "               scale= 1,\n",
    "               width= 0.005,\n",
    "               color= 'g',\n",
    "               headwidth= 5)\n",
    "    plt.plot(xq, yq, 'o', markersize= 0.5, color= 'g')\n",
    "\n",
    "    ###############################\n",
    "\n",
    "    xq = np.array(l_plus_plus_x)\n",
    "    yq = np.array(l_plus_plus_y)\n",
    "    \n",
    "    plt.quiver(xq[:-1], yq[:-1], xq[1:]-xq[:-1], yq[1:]-yq[:-1], \n",
    "               scale_units= 'xy', \n",
    "               angles= 'xy', \n",
    "               scale= 1,\n",
    "               width= 0.005,\n",
    "               color= 'm',\n",
    "               headwidth= 5)\n",
    "    plt.plot(xq, yq, 'o', markersize= 0.5, color= 'm')\n",
    "\n",
    "    plt.grid()\n",
    "    plt.title(title, fontsize= 20)\n",
    "    plt.show()\n",
    "    \n",
    "    "
   ]
  },
  {
   "cell_type": "code",
   "execution_count": 12,
   "metadata": {},
   "outputs": [],
   "source": [
    "def side(a,b,c):\n",
    "    \"\"\" Returns a position of the point c relative to the line going through a and b\n",
    "        Points a, b are expected to be different\n",
    "    \"\"\"\n",
    "    d = (c[1]-a[1])*(b[0]-a[0]) - (b[1]-a[1])*(c[0]-a[0])\n",
    "    return 1 if d > 0 else (-1 if d < 0 else 0)\n",
    "\n",
    "def is_point_in_closed_segment(a, b, c):\n",
    "    \"\"\" Returns True if c is inside closed segment, False otherwise.\n",
    "        a, b, c are expected to be collinear\n",
    "    \"\"\"\n",
    "    if a[0] < b[0]:\n",
    "        return a[0] <= c[0] and c[0] <= b[0]\n",
    "    if b[0] < a[0]:\n",
    "        return b[0] <= c[0] and c[0] <= a[0]\n",
    "\n",
    "    if a[1] < b[1]:\n",
    "        return a[1] <= c[1] and c[1] <= b[1]\n",
    "    if b[1] < a[1]:\n",
    "        return b[1] <= c[1] and c[1] <= a[1]\n",
    "\n",
    "    return a[0] == c[0] and a[1] == c[1]\n",
    "\n",
    "#\n",
    "def closed_segment_intersect(a,b,c,d):\n",
    "    \"\"\" Verifies if closed segments a, b, c, d do intersect.\n",
    "    \"\"\"\n",
    "    if a == b:\n",
    "        return a == c or a == d\n",
    "    if c == d:\n",
    "        return c == a or c == b\n",
    "\n",
    "    s1 = side(a,b,c)\n",
    "    s2 = side(a,b,d)\n",
    "\n",
    "    # All points are collinear\n",
    "    if s1 == 0 and s2 == 0:\n",
    "        return \\\n",
    "            is_point_in_closed_segment(a, b, c) or is_point_in_closed_segment(a, b, d) or \\\n",
    "            is_point_in_closed_segment(c, d, a) or is_point_in_closed_segment(c, d, b)\n",
    "\n",
    "    # No touching and on the same side\n",
    "    if s1 and s1 == s2:\n",
    "        return False\n",
    "\n",
    "    s1 = side(c,d,a)\n",
    "    s2 = side(c,d,b)\n",
    "\n",
    "    # No touching and on the same side\n",
    "    if s1 and s1 == s2:\n",
    "        return False\n",
    "\n",
    "    return True"
   ]
  },
  {
   "cell_type": "code",
   "execution_count": 8,
   "metadata": {
    "scrolled": true
   },
   "outputs": [
    {
     "data": {
      "text/plain": [
       "0"
      ]
     },
     "execution_count": 8,
     "metadata": {},
     "output_type": "execute_result"
    }
   ],
   "source": [
    "a = [0, 0]"
   ]
  },
  {
   "cell_type": "code",
   "execution_count": 5,
   "metadata": {},
   "outputs": [],
   "source": [
    "a = Point(0,0)\n",
    "b = Point(0,1)\n",
    "c = Point(1,1)\n",
    "d = Point(1,0)"
   ]
  },
  {
   "cell_type": "code",
   "execution_count": 91,
   "metadata": {},
   "outputs": [],
   "source": [
    "a = [-0.7, -0.8]\n",
    "b = [0.75, -0.999]\n",
    "c = [-0.67, 0.5]\n",
    "d = [0.456, 0.678]"
   ]
  },
  {
   "cell_type": "code",
   "execution_count": 92,
   "metadata": {},
   "outputs": [
    {
     "data": {
      "text/plain": [
       "False"
      ]
     },
     "execution_count": 92,
     "metadata": {},
     "output_type": "execute_result"
    }
   ],
   "source": [
    "closed_segment_intersect(a, b, c, d)"
   ]
  },
  {
   "cell_type": "code",
   "execution_count": 93,
   "metadata": {},
   "outputs": [
    {
     "data": {
      "text/plain": [
       "True"
      ]
     },
     "execution_count": 93,
     "metadata": {},
     "output_type": "execute_result"
    }
   ],
   "source": [
    "closed_segment_intersect(d, a, b, c)"
   ]
  },
  {
   "cell_type": "code",
   "execution_count": null,
   "metadata": {},
   "outputs": [],
   "source": []
  }
 ],
 "metadata": {
  "kernelspec": {
   "display_name": "Python 3",
   "language": "python",
   "name": "python3"
  },
  "language_info": {
   "codemirror_mode": {
    "name": "ipython",
    "version": 3
   },
   "file_extension": ".py",
   "mimetype": "text/x-python",
   "name": "python",
   "nbconvert_exporter": "python",
   "pygments_lexer": "ipython3",
   "version": "3.7.3"
  }
 },
 "nbformat": 4,
 "nbformat_minor": 2
}
